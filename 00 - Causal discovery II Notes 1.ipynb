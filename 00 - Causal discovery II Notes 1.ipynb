{
 "cells": [
  {
   "cell_type": "markdown",
   "metadata": {},
   "source": [
    "# Causal discovery notes 1"
   ]
  },
  {
   "cell_type": "markdown",
   "metadata": {},
   "source": [
    "<img src=\"img/causal.png\" width=250>\n",
    "<center>\n",
    "    <i>Image source: https://towardsdatascience.com/use-causal-graphs-4e3af630cf64</i>\n",
    "</center>\n",
    " "
   ]
  },
  {
   "cell_type": "markdown",
   "metadata": {},
   "source": [
    "____________"
   ]
  },
  {
   "cell_type": "markdown",
   "metadata": {},
   "source": [
    "## 1. Constraint-based and score-based methods\n"
   ]
  },
  {
   "cell_type": "markdown",
   "metadata": {},
   "source": [
    "### 1.1 The PC algorithm\n",
    "\n",
    "The **PC** (Sprites et al., 2001) algorithm starts with a **fully connected graph** and iteratively removes edges based on their independence. This algorithms requires **faithfulness assumption** to be met.\n",
    "\n",
    "_____________\n",
    "\n",
    "\n",
    "### 1.2 FCI - Fast Causal Inference\n",
    " \n",
    "**FCI** (Sprites et al., 2001) is a generalization of **PC**, which tolerates and sometimes discovers unknown confounders (Glymour et al., 2019).\n",
    "\n",
    "_____________\n",
    "\n",
    "\n",
    "\n",
    "### 1.3 GES - Greedy Equivalence Search\n",
    "\n",
    "**GES** [(Chickering, 2002)](https://www.jmlr.org/papers/volume3/chickering02b/chickering02b.pdf) starts with an empty graph, adds edges and then performs pruning. At each step graph-data fit is measured using a score (e.g. BIC or Z-score; Glymour et al., 2019).\n",
    "\n",
    "_____________\n",
    "\n",
    "\n",
    "\n",
    "### 1.4 GFCI - GES + FCI\n",
    "\n",
    "**GFCI** [(Ogarrio et al., 2016)](https://www.ncbi.nlm.nih.gov/pmc/articles/PMC5325717/pdf/nihms845582.pdf) is a combination of GES and FCI, where GES generates a graph and FCI prunes it. Some simulation studies demonstrated that **GFCI** is more accurate in retrieving the true causal structure than pure FCI."
   ]
  },
  {
   "cell_type": "markdown",
   "metadata": {},
   "source": [
    "_____________"
   ]
  },
  {
   "cell_type": "markdown",
   "metadata": {},
   "source": [
    "## 2. Functional Causal Models"
   ]
  },
  {
   "cell_type": "markdown",
   "metadata": {},
   "source": [
    "### 2.1 General FCMs\n",
    "\n",
    "**General FCM** represents the effect $Y$ as a function $f$ of direct causes $X$ and some unmeasureable noise $\\epsilon$.\n",
    "Formally, we can encode it as follows:\n",
    "\n",
    "\n",
    "$$\\large Y = f(X, \\epsilon, \\theta_1)$$\n",
    "\n",
    "\n",
    "where:\n",
    "\n",
    "* $\\theta_1$ is a parameter set involved in $f$.\n",
    "\n",
    "\n",
    "One important asumption is that the transormation $(X, \\epsilon) \\rightarrow (X, Y)$ is **invertible**.\n",
    "\n",
    "Using **FCM** we can try to find the causal asymmetry when fitting two **FCM**s: $X \\rightarrow Y$ and $Y \\rightarrow X$ and checking which direction results in the independence of the noise term $\\epsilon$. Unfortunately, it has been shown that without additiona assumptions, the causal direction in non-identifiable [(Zhang et al., 2015)](https://ei.is.tuebingen.mpg.de/uploads_file/attachment/attachment/2/ACM_Zhang14.pdf).\n",
    "\n",
    "______________\n",
    "\n",
    "\n",
    "### 2.2 LiNGAM\n",
    "\n",
    "**LiNGAM** (Linear Non-Gaussian Acyclic Model for Causal Discovery; [Shimizu et al., 2006)](https://www.jmlr.org/papers/volume7/shimizu06a/shimizu06a.pdf) has a linear $f$ and at most one of the following: (1) noise term $\\epsilon$ and (2) the cause $X$ is Gaussian. \n",
    "\n",
    "Because at most one of the terms is Gaussian, causal assymetry between $X$ and $Y$ will occur, leading to identifiability. Check the figure below and/or [Glymour et al., 2019](https://www.frontiersin.org/articles/10.3389/fgene.2019.00524/full) for intuition.\n",
    "\n",
    "<img src=\"img/glymour_2019__fig_3.jpg\" width=400>\n",
    "\n",
    "<br> \n",
    "<br>\n",
    "**NOTE**: By Cramér's decomposition theorem (Cramér, 1970) the sum of two random variables is exactly Gaussian iff both of them are Gaussian.\n",
    "\n",
    "__________\n",
    "\n",
    "### 2.3 PNL\n",
    "\n",
    "**PNL** (post-linear model; [Zhang and Hyvärinen, 2009b)](https://arxiv.org/ftp/arxiv/papers/1205/1205.2599.pdf) is a generalization of LiNGAM. It adds another transformation ($f_2$) to the picture:\n",
    "\n",
    "\n",
    "$$\\large Y = f_2(f_1(X) + \\epsilon)$$\n",
    "\n",
    "where both $f_1$ and $f_2$ are non-linear functions and $f_2$ is assumed to be invertible (Glymour et al., 2019)."
   ]
  },
  {
   "cell_type": "code",
   "execution_count": null,
   "metadata": {},
   "outputs": [],
   "source": []
  }
 ],
 "metadata": {
  "kernelspec": {
   "display_name": "Python [conda env:econml-dowhy-py38]",
   "language": "python",
   "name": "conda-env-econml-dowhy-py38-py"
  },
  "language_info": {
   "codemirror_mode": {
    "name": "ipython",
    "version": 3
   },
   "file_extension": ".py",
   "mimetype": "text/x-python",
   "name": "python",
   "nbconvert_exporter": "python",
   "pygments_lexer": "ipython3",
   "version": "3.8.11"
  }
 },
 "nbformat": 4,
 "nbformat_minor": 4
}
