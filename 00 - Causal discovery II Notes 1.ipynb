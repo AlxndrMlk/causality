{
 "cells": [
  {
   "cell_type": "markdown",
   "metadata": {},
   "source": [
    "# Causal discovery notes 1"
   ]
  },
  {
   "cell_type": "markdown",
   "metadata": {},
   "source": [
    "<img src=\"img/causal.png\" width=250>\n",
    "<center>\n",
    "    <i>Image source: https://towardsdatascience.com/use-causal-graphs-4e3af630cf64</i>\n",
    "</center>\n",
    " "
   ]
  },
  {
   "cell_type": "markdown",
   "metadata": {},
   "source": [
    "## 1. Constraint-based and score-based methods\n"
   ]
  },
  {
   "cell_type": "markdown",
   "metadata": {},
   "source": [
    "### 1.1 The PC algorithm\n",
    "\n",
    "The **PC** (Sprites et al., 2001) algorithm starts with a **fully connected graph** and iteratively removes edges based on their independence. This algorithms requires **faithfulness assumption** to be met.\n",
    "\n",
    "### 1.2 FCI - Fast Causal Inference\n",
    " \n",
    "**FCI** (Sprites et al., 2001) is a generalization of **PC**, which tolerates and sometimes discovers unknown confounders (Glymour et al., 2019).\n",
    "\n",
    "### 1.3 GES - Greedy Equivalence Search\n",
    "\n",
    "**GES** [(Chickering, 2002)](https://www.jmlr.org/papers/volume3/chickering02b/chickering02b.pdf) starts with an empty graph, adds edges and then performs pruning. At each step graph-data fit is measured using a score (e.g. BIC or Z-score; Glymour et al., 2019).\n",
    "\n",
    "### 1.4 GFCI - GES + FCI\n",
    "\n",
    "**GFCI** [(Ogarrio et al., 2016)](https://www.ncbi.nlm.nih.gov/pmc/articles/PMC5325717/pdf/nihms845582.pdf) is a combination of GES and FCI, where GES generates a graph and FCI prunes it. Some simulation studies demonstrated that **GFCI** is more accurate in retrieving the true causal structure than pure FCI."
   ]
  },
  {
   "cell_type": "markdown",
   "metadata": {},
   "source": [
    "## 2. Functional Causal Models"
   ]
  },
  {
   "cell_type": "markdown",
   "metadata": {},
   "source": [
    "### TBC..."
   ]
  },
  {
   "cell_type": "code",
   "execution_count": null,
   "metadata": {},
   "outputs": [],
   "source": []
  }
 ],
 "metadata": {
  "kernelspec": {
   "display_name": "Python [conda env:econml-dowhy-py38]",
   "language": "python",
   "name": "conda-env-econml-dowhy-py38-py"
  },
  "language_info": {
   "codemirror_mode": {
    "name": "ipython",
    "version": 3
   },
   "file_extension": ".py",
   "mimetype": "text/x-python",
   "name": "python",
   "nbconvert_exporter": "python",
   "pygments_lexer": "ipython3",
   "version": "3.8.11"
  }
 },
 "nbformat": 4,
 "nbformat_minor": 4
}
