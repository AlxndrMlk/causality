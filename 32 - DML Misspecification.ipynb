{
 "cells": [
  {
   "cell_type": "code",
   "execution_count": 11,
   "id": "cef3e12d",
   "metadata": {},
   "outputs": [],
   "source": [
    "import pandas as pd\n",
    "\n",
    "import numpy as np\n",
    "from scipy import stats\n",
    "\n",
    "import networkx as nx\n",
    "\n",
    "from econml.dml import LinearDML"
   ]
  },
  {
   "cell_type": "code",
   "execution_count": 15,
   "id": "2ddc565a",
   "metadata": {},
   "outputs": [],
   "source": [
    "N_SAMPLES = 10000"
   ]
  },
  {
   "cell_type": "markdown",
   "id": "eac00c7d",
   "metadata": {},
   "source": [
    "# The Impact of Causal Identifications Violation on DML\n",
    "\n",
    "**Double Machine Learning** (**DML**) is a modern estimator designed to model interventional causal effects from experimental and observational data.\n",
    "\n",
    "One of the critical aspects of working with DML is the understanding of the requirements for causal identification.\n",
    "\n",
    "In this notebook we present how a DML estimator can react to basic, yet often misunderstood, **causal identification violations** (or causal model misspecifications).\n",
    "\n",
    "\n",
    "\n",
    "A part of [CausalPython](https://causalpython.io) series on causality.\n",
    "\n",
    "<a href=\"https://causalpython.io\"><img src=\"img/CausalPython.io__flat.png\" width=150 align=\"left\"></a>\n",
    "<br>"
   ]
  },
  {
   "cell_type": "markdown",
   "id": "83577d2c",
   "metadata": {},
   "source": [
    "## Case 0: Reference"
   ]
  },
  {
   "cell_type": "code",
   "execution_count": 55,
   "id": "da1dc190",
   "metadata": {},
   "outputs": [
    {
     "data": {
      "image/png": "[encoded data removed]",
      "text/plain": [
       "<Figure size 640x480 with 1 Axes>"
      ]
     },
     "metadata": {},
     "output_type": "display_data"
    }
   ],
   "source": [
    "# DGP structure\n",
    "graph = nx.DiGraph()\n",
    "\n",
    "graph.add_edges_from(\n",
    "    [\n",
    "        ('W', 'A'),\n",
    "        ('A', 'M'),\n",
    "        ('M', 'Y'),\n",
    "        ('W', 'Y'),\n",
    "    ]\n",
    ")\n",
    "\n",
    "nx.draw(\n",
    "    graph,\n",
    "    with_labels=True,\n",
    "    font_color='white',\n",
    "    node_size=500,\n",
    ")"
   ]
  },
  {
   "cell_type": "code",
   "execution_count": 56,
   "id": "fd7be7be",
   "metadata": {},
   "outputs": [],
   "source": [
    "# Confounder\n",
    "W = stats.norm(0, 1).rvs(N_SAMPLES)\n",
    "\n",
    "# Treatment\n",
    "A = stats.norm(0, 1).rvs(N_SAMPLES) + 0.5*W\n",
    "\n",
    "# Mediator\n",
    "M = 2*A + stats.norm(0, 2).rvs(N_SAMPLES)\n",
    "\n",
    "# Outcome\n",
    "Y = -3*M -2*W + stats.norm(0, 1).rvs(N_SAMPLES)\n",
    "\n",
    "# Ture Effect A -> Y = -6"
   ]
  },
  {
   "cell_type": "code",
   "execution_count": 57,
   "id": "675ded08",
   "metadata": {},
   "outputs": [],
   "source": [
    "# Initialize the model (with default base learners)\n",
    "dml = LinearDML()"
   ]
  },
  {
   "cell_type": "code",
   "execution_count": 58,
   "id": "288976c5",
   "metadata": {},
   "outputs": [],
   "source": [
    "# All controls (correct specification: no mediator included)\n",
    "X = W.reshape(-1, 1)"
   ]
  },
  {
   "cell_type": "code",
   "execution_count": 59,
   "id": "ab3fd443",
   "metadata": {},
   "outputs": [
    {
     "data": {
      "text/plain": [
       "<econml.dml.dml.LinearDML at 0x209b56c7620>"
      ]
     },
     "execution_count": 59,
     "metadata": {},
     "output_type": "execute_result"
    }
   ],
   "source": [
    "# Fit the model\n",
    "dml.fit(\n",
    "    T=A,\n",
    "    X=X,\n",
    "    Y=Y\n",
    ")"
   ]
  },
  {
   "cell_type": "code",
   "execution_count": 60,
   "id": "cef346ac",
   "metadata": {},
   "outputs": [
    {
     "data": {
      "text/plain": [
       "np.float64(-5.982578992838315)"
      ]
     },
     "execution_count": 60,
     "metadata": {},
     "output_type": "execute_result"
    }
   ],
   "source": [
    "# Predicted effect\n",
    "dml.effect(X=X, T0=0, T1=1).mean()"
   ]
  },
  {
   "cell_type": "markdown",
   "id": "7d726cda",
   "metadata": {},
   "source": [
    "### Results Summary:\n",
    "\n",
    "**Predicted effect**: -5.98 ✅\n",
    "\n",
    "**True effect**: -6.00"
   ]
  },
  {
   "cell_type": "markdown",
   "id": "0436f826",
   "metadata": {},
   "source": [
    "## Case 1: Controlling for Mediators"
   ]
  },
  {
   "cell_type": "code",
   "execution_count": 36,
   "id": "1061e00b",
   "metadata": {},
   "outputs": [],
   "source": [
    "# Confounder\n",
    "W = stats.norm(0, 1).rvs(N_SAMPLES)\n",
    "\n",
    "# Treatment\n",
    "A = stats.norm(0, 1).rvs(N_SAMPLES) + 0.5*W\n",
    "\n",
    "# Mediator\n",
    "M = 2*A + stats.norm(0, 2).rvs(N_SAMPLES)\n",
    "\n",
    "# Outcome\n",
    "Y = -3*M -2*W + stats.norm(0, 1).rvs(N_SAMPLES)\n",
    "\n",
    "# Ture Effect A -> Y = -6"
   ]
  },
  {
   "cell_type": "code",
   "execution_count": 37,
   "id": "a5fd6831",
   "metadata": {},
   "outputs": [],
   "source": [
    "# Initialize the model (with default base learners)\n",
    "dml = LinearDML()"
   ]
  },
  {
   "cell_type": "code",
   "execution_count": 61,
   "id": "b1446ce0",
   "metadata": {},
   "outputs": [],
   "source": [
    "# All controls (‼️misspecification: mediator included)\n",
    "X = np.stack([W, M]).T"
   ]
  },
  {
   "cell_type": "code",
   "execution_count": 62,
   "id": "8cd094dc",
   "metadata": {},
   "outputs": [
    {
     "data": {
      "text/plain": [
       "<econml.dml.dml.LinearDML at 0x209b56c7620>"
      ]
     },
     "execution_count": 62,
     "metadata": {},
     "output_type": "execute_result"
    }
   ],
   "source": [
    "# Fit the model\n",
    "dml.fit(\n",
    "    T=A,\n",
    "    X=X,\n",
    "    Y=Y\n",
    ")"
   ]
  },
  {
   "cell_type": "code",
   "execution_count": 64,
   "id": "d5cdc840",
   "metadata": {},
   "outputs": [
    {
     "data": {
      "text/plain": [
       "np.float64(-0.011980482861522899)"
      ]
     },
     "execution_count": 64,
     "metadata": {},
     "output_type": "execute_result"
    }
   ],
   "source": [
    "# Predicted effect\n",
    "dml.effect(X=X, T0=0, T1=1).mean()"
   ]
  },
  {
   "cell_type": "markdown",
   "id": "2e960dea",
   "metadata": {},
   "source": [
    "### Results Summary:\n",
    "\n",
    "**Predicted effect**: -0.012 ❌\n",
    "\n",
    "**True effect**: -6.000"
   ]
  },
  {
   "cell_type": "markdown",
   "id": "285ae64b",
   "metadata": {},
   "source": [
    "## Case 2: Controlling for (Noisy) Colliders"
   ]
  },
  {
   "cell_type": "code",
   "execution_count": 77,
   "id": "8ba57f5b",
   "metadata": {},
   "outputs": [
    {
     "data": {
      "image/png": "[encoded data removed]",
      "text/plain": [
       "<Figure size 640x480 with 1 Axes>"
      ]
     },
     "metadata": {},
     "output_type": "display_data"
    }
   ],
   "source": [
    "# DGP structure\n",
    "graph = nx.DiGraph()\n",
    "\n",
    "graph.add_edges_from(\n",
    "    [\n",
    "        ('W', 'A'),\n",
    "        ('A', 'M'),\n",
    "        ('M', 'Y'),\n",
    "        ('W', 'Y'),\n",
    "        ('A', 'C'),\n",
    "        ('Y', 'C')\n",
    "    ]\n",
    ")\n",
    "\n",
    "nx.draw(\n",
    "    graph,\n",
    "    with_labels=True,\n",
    "    font_color='white',\n",
    "    node_size=500,\n",
    ")"
   ]
  },
  {
   "cell_type": "code",
   "execution_count": 93,
   "id": "8676a669",
   "metadata": {},
   "outputs": [],
   "source": [
    "# Confounder\n",
    "W = stats.norm(0, 1).rvs(N_SAMPLES)\n",
    "\n",
    "# Treatment\n",
    "A = stats.norm(0, 1).rvs(N_SAMPLES) + 0.5*W\n",
    "\n",
    "# Mediator\n",
    "M = 2*A + stats.norm(0, 2).rvs(N_SAMPLES)\n",
    "\n",
    "# Outcome\n",
    "Y = -3*M -2*W + stats.norm(0, 1).rvs(N_SAMPLES)\n",
    "\n",
    "# Collider\n",
    "C = -1.3*A + 6*Y + stats.norm(0, 4).rvs(N_SAMPLES)\n",
    "\n",
    "# Ture Effect A -> Y = -6"
   ]
  },
  {
   "cell_type": "code",
   "execution_count": 94,
   "id": "d964d080",
   "metadata": {},
   "outputs": [],
   "source": [
    "# Initialize the model (with default base learners)\n",
    "dml = LinearDML()"
   ]
  },
  {
   "cell_type": "code",
   "execution_count": 95,
   "id": "d7858da2",
   "metadata": {},
   "outputs": [],
   "source": [
    "# All controls (‼️misspecification: noisy collider included)\n",
    "X = np.stack([W, C]).T"
   ]
  },
  {
   "cell_type": "code",
   "execution_count": 96,
   "id": "83d22093",
   "metadata": {},
   "outputs": [
    {
     "data": {
      "text/plain": [
       "<econml.dml.dml.LinearDML at 0x20a3c8b1490>"
      ]
     },
     "execution_count": 96,
     "metadata": {},
     "output_type": "execute_result"
    }
   ],
   "source": [
    "# Fit the model\n",
    "dml.fit(\n",
    "    T=A,\n",
    "    X=X,\n",
    "    Y=Y\n",
    ")"
   ]
  },
  {
   "cell_type": "code",
   "execution_count": 97,
   "id": "d3e9fbbd",
   "metadata": {},
   "outputs": [
    {
     "data": {
      "text/plain": [
       "np.float64(0.13880817312216617)"
      ]
     },
     "execution_count": 97,
     "metadata": {},
     "output_type": "execute_result"
    }
   ],
   "source": [
    "# Predicted effect\n",
    "dml.effect(X=X, T0=0, T1=1).mean()"
   ]
  },
  {
   "cell_type": "markdown",
   "id": "b06b21d5",
   "metadata": {},
   "source": [
    "### Results Summary:\n",
    "\n",
    "**Predicted effect**: 0.15 ❌\n",
    "\n",
    "**True effect**: -6.00"
   ]
  }
 ],
 "metadata": {
  "kernelspec": {
   "display_name": "Python [conda env:causal_book_py312]",
   "language": "python",
   "name": "conda-env-causal_book_py312-py"
  },
  "language_info": {
   "codemirror_mode": {
    "name": "ipython",
    "version": 3
   },
   "file_extension": ".py",
   "mimetype": "text/x-python",
   "name": "python",
   "nbconvert_exporter": "python",
   "pygments_lexer": "ipython3",
   "version": "3.12.11"
  }
 },
 "nbformat": 4,
 "nbformat_minor": 5
}
