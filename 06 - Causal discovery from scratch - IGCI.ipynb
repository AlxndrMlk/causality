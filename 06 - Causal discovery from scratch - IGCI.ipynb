{
 "cells": [
  {
   "cell_type": "code",
   "execution_count": 3,
   "id": "09410bbd",
   "metadata": {},
   "outputs": [],
   "source": [
    "import numpy as np\n",
    "\n",
    "import matplotlib.pyplot as plt\n",
    "plt.style.use('fivethirtyeight')\n",
    "\n",
    "from utils.models import GAM\n",
    "from utils.independence import HSIC, dHSIC"
   ]
  },
  {
   "cell_type": "markdown",
   "id": "ac75e782",
   "metadata": {},
   "source": [
    "# Causal discovery methods from scratch"
   ]
  },
  {
   "cell_type": "markdown",
   "id": "65c571c5",
   "metadata": {},
   "source": [
    "## Information-Geometric Causal Inference (IGCI)\n",
    "\n",
    "Peters et al. (2017) [Elements of Causal Inference](https://library.oapen.org/bitstream/id/056a11be-ce3a-44b9-8987-a6c68fce8d9b/11283.pdf) pp. 66-67\n",
    "\n",
    "Mooij et al. (2016) [Distinguishing Cause from Effect Using Observational Data: Methods and Benchmarks](https://jmlr.org/papers/volume17/14-518/14-518.pdf)\n",
    "\n",
    "<br>\n",
    "\n",
    "______________\n",
    "\n",
    "**IGCI** *is based on the strong assumption that $X$ and $Y$ are deterministically related by a bijective function $f$, that is, $Y = f(X)$ and $X = f^{−1}(Y)$. Although its practical applicability is limited to causal relations with sufficiently small noise and sufficiently high non-linearity, **IGCI** provides a setting in which the independence of $P_X$ and $P_{Y|X}$ provably implies well-defined dependences between $P_Y$ and $P_{X|Y}$.* \n",
    "\n",
    "(Mooij et al., 2016)\n",
    "\n",
    "_____________\n",
    "\n",
    "<br>\n",
    "\n",
    "One (though not the only) way to estimate **IGCI** is the following:\n",
    " \n",
    "$$\\Large C_{X \\rightarrow Y} \\leq C_{X \\leftarrow Y}$$\n",
    "\n",
    "where $C$ can be estimated as:\n",
    "\n",
    "$$\\large \\hat{C}_{X \\rightarrow Y} = \\frac{1}{N-1} \\sum_{j=1}^{N-1}log\\frac{|y_{j+1} - y_j|}{|x_{j+1} - x_j|}$$"
   ]
  },
  {
   "cell_type": "markdown",
   "id": "24f105f8",
   "metadata": {},
   "source": [
    "### Data"
   ]
  },
  {
   "cell_type": "code",
   "execution_count": 19,
   "id": "a2e76e39",
   "metadata": {},
   "outputs": [],
   "source": [
    "# Create data\n",
    "x = np.random.randn(1000)\n",
    "y = x**3 + np.random.randn(1000) "
   ]
  },
  {
   "cell_type": "markdown",
   "id": "0e57faa0",
   "metadata": {},
   "source": [
    "Note that we added some **noise** to the model, which violates the assumptions. Nonetheless, the model should be robust to small amounts of noise."
   ]
  },
  {
   "cell_type": "code",
   "execution_count": 20,
   "id": "57210ce2",
   "metadata": {},
   "outputs": [
    {
     "data": {
      "image/png": "[encoded data removed]",
      "text/plain": [
       "<Figure size 432x288 with 1 Axes>"
      ]
     },
     "metadata": {},
     "output_type": "display_data"
    }
   ],
   "source": [
    "# Plot data\n",
    "plt.scatter(x, y, alpha=.5)\n",
    "plt.title('Generated data')\n",
    "plt.xlabel('$X$')\n",
    "plt.ylabel('$Y$')\n",
    "plt.show()"
   ]
  },
  {
   "cell_type": "code",
   "execution_count": 21,
   "id": "a736a2c9",
   "metadata": {},
   "outputs": [],
   "source": [
    "def estimate_c(x, y):\n",
    "    \n",
    "    # Scale variables\n",
    "    x = (x - x.min()) / (x.max() - x.min())\n",
    "    y = (y - y.min()) / (y.max() - y.min())\n",
    "    \n",
    "    # Sort x and y (keyed by x)\n",
    "    sorted_ids = np.argsort(x)\n",
    "    \n",
    "    x = x[sorted_ids]\n",
    "    y = y[sorted_ids]\n",
    "    \n",
    "    sum_of_logs = 0\n",
    "    \n",
    "    for i in range(len(x) - 1):\n",
    "        sum_of_logs += np.log(np.abs(y[i+1] - y[i]) / np.abs(x[i+1] - x[i]))\n",
    "    \n",
    "    return sum_of_logs / (len(x) - 1)"
   ]
  },
  {
   "cell_type": "code",
   "execution_count": 22,
   "id": "af05aac6",
   "metadata": {},
   "outputs": [
    {
     "name": "stdout",
     "output_type": "stream",
     "text": [
      "X -> Y\n"
     ]
    }
   ],
   "source": [
    "if estimate_c(x, y) <= estimate_c(y, x):\n",
    "    print('X -> Y')\n",
    "else:\n",
    "    print('Y -> X')"
   ]
  },
  {
   "cell_type": "code",
   "execution_count": 23,
   "id": "34328105",
   "metadata": {},
   "outputs": [
    {
     "data": {
      "text/plain": [
       "(3.6724612901327123, 6.220083613113308)"
      ]
     },
     "execution_count": 23,
     "metadata": {},
     "output_type": "execute_result"
    }
   ],
   "source": [
    "estimate_c(x, y), estimate_c(y, x)"
   ]
  }
 ],
 "metadata": {
  "kernelspec": {
   "display_name": "Python [conda env:econml-dowhy-py38]",
   "language": "python",
   "name": "conda-env-econml-dowhy-py38-py"
  },
  "language_info": {
   "codemirror_mode": {
    "name": "ipython",
    "version": 3
   },
   "file_extension": ".py",
   "mimetype": "text/x-python",
   "name": "python",
   "nbconvert_exporter": "python",
   "pygments_lexer": "ipython3",
   "version": "3.8.12"
  }
 },
 "nbformat": 4,
 "nbformat_minor": 5
}
