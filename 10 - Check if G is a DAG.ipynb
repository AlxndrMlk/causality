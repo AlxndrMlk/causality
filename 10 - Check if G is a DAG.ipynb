{
 "cells": [
  {
   "cell_type": "code",
   "execution_count": 1,
   "id": "ff3a5214",
   "metadata": {},
   "outputs": [],
   "source": [
    "import numpy as np\n",
    "from scipy import linalg \n",
    "import networkx as nx"
   ]
  },
  {
   "cell_type": "markdown",
   "id": "62367e5a",
   "metadata": {},
   "source": [
    "# Check if adjacency matrix $A$ represents a DAG\n",
    "\n",
    "## Method 1\n",
    "\n",
    "Morales-Alvarez et al. (2021) refer to Zhang et al. (2018) to show that an adjacency matrix $A$ represents a [DAG](https://en.wikipedia.org/wiki/Directed_acyclic_graph) iff:\n",
    "\n",
    "<br>\n",
    "\n",
    "$$\\Large \\mathcal{R}(A) = 0$$\n",
    "\n",
    "where:\n",
    "\n",
    "$$\\large \\mathcal{R}(A) = tr(e^{A \\odot A}) - d$$\n",
    "\n",
    "where:\n",
    "\n",
    "* $A$ is the adjacency matrix of a graph $G$\n",
    "* $tr(\\cdot)$ is a trace of a matrix\n",
    "* $d$ is a number of nodes in $G$\n",
    "* $\\odot$ is an element-wise product ([Hadamard product](https://en.wikipedia.org/wiki/Hadamard_product_(matrices)))\n",
    "\n",
    "\n",
    "## Method 2\n",
    "\n",
    "Method 2, cited in Peters et al. (2017) has been proved by McKay et al. (2004).\n",
    "\n",
    "The theorem states that the adjacency matrix $A$ represents a DAG $G$ iff:\n",
    "\n",
    "$$\\Large \\forall a_{ij} \\in [A + I], a_{ij} \\in \\{0, 1\\} $$\n",
    "\n",
    "and \n",
    "\n",
    "$$\\Large \\forall \\lambda_{A + I}, \\lambda_{A + I} \\in \\mathbb{R} \\land \\lambda_{A + I} > 0$$\n",
    "\n",
    "where:\n",
    "\n",
    "* $a_{ij}$ is the $ij^{th}$ entry in the adjacency marrix $A$ of a graph $G$\n",
    "* $I$ is the identity matrix of size $d_A \\times d_A$\n",
    "* $\\lambda_{A+I}$ are the eigenvalues of matrix $A+I$\n",
    "\n",
    "_______________________\n",
    "\n",
    "<br>\n",
    "\n",
    "**NOTE**: Method 2 only works for **non-weighhted** adjacency matrices.\n",
    "____________________\n",
    "\n",
    "## References\n",
    "\n",
    "[McKay et al. - Acyclic Digraphs and Eigenvalues of (0,1)-Matrices (2004)](https://arxiv.org/pdf/math/0310423.pdf)\n",
    "\n",
    "[Morales-Alvarez et al. - VICause: Simultaneous Missing Value Imputation and Causal Discovery with Groups (2021)](https://arxiv.org/pdf/2110.08223.pdf) \n",
    "\n",
    "[Peters et al. - Elements of Causal Inference (2017)](https://library.oapen.org/bitstream/id/056a11be-ce3a-44b9-8987-a6c68fce8d9b/11283.pdf)\n",
    "\n",
    "[Zhang et al. - DAGs with NO TEARS: Continuous Optimization for Structure Learning (2018)](https://arxiv.org/pdf/1803.01422.pdf)"
   ]
  },
  {
   "cell_type": "code",
   "execution_count": 57,
   "id": "86c28b75",
   "metadata": {},
   "outputs": [],
   "source": [
    "def check_if_dag_1(graph):\n",
    "    A = nx.linalg.graphmatrix.adjacency_matrix(graph).todense()\n",
    "    return np.trace(linalg.expm(A * A)) - A.shape[0] == 0\n",
    "\n",
    "def check_if_dag_2(graph):\n",
    "    # Get adj matrix\n",
    "    A = nx.linalg.graphmatrix.adjacency_matrix(graph).todense()\n",
    "    \n",
    "    # A + I\n",
    "    A_plus_I = A + np.eye(A.shape[0])\n",
    "    \n",
    "    # Check if 0-1 matrix\n",
    "    if not np.isin(A_plus_I, [0, 1]).all():\n",
    "        return False\n",
    "        \n",
    "    # Compute eigenvals\n",
    "    eigenvals = np.linalg.eigvals(A_plus_I)\n",
    "    \n",
    "    # Check if all eigenvals > 0 and reals\n",
    "    if (eigenvals > 0).all() and not np.iscomplex(eigenvals).any():\n",
    "        return True\n",
    "    \n",
    "    return False"
   ]
  },
  {
   "cell_type": "markdown",
   "id": "04ddd7a5",
   "metadata": {},
   "source": [
    "## DAG"
   ]
  },
  {
   "cell_type": "code",
   "execution_count": 58,
   "id": "d850c100",
   "metadata": {},
   "outputs": [],
   "source": [
    "# Create a graph\n",
    "G = nx.DiGraph()\n",
    "\n",
    "# Add nodes\n",
    "G.add_nodes_from(np.arange(6))\n",
    "\n",
    "# Add edges\n",
    "G.add_edges_from(\n",
    "    [\n",
    "        (0, 1),\n",
    "        (0, 3),\n",
    "        (0, 5),\n",
    "        (1, 2),\n",
    "        (2, 5),\n",
    "        (3, 4),\n",
    "        (4, 5)\n",
    "    ]\n",
    ")"
   ]
  },
  {
   "cell_type": "code",
   "execution_count": 59,
   "id": "55476b42",
   "metadata": {},
   "outputs": [
    {
     "data": {
      "image/png": "[encoded data removed]",
      "text/plain": [
       "<Figure size 432x288 with 1 Axes>"
      ]
     },
     "metadata": {},
     "output_type": "display_data"
    }
   ],
   "source": [
    "# Plot the graph\n",
    "nx.draw(G, with_labels=True, node_color='#f2da80')"
   ]
  },
  {
   "cell_type": "code",
   "execution_count": 60,
   "id": "523ea11b",
   "metadata": {
    "scrolled": true
   },
   "outputs": [
    {
     "data": {
      "text/plain": [
       "matrix([[0, 1, 0, 1, 0, 1],\n",
       "        [0, 0, 1, 0, 0, 0],\n",
       "        [0, 0, 0, 0, 0, 1],\n",
       "        [0, 0, 0, 0, 1, 0],\n",
       "        [0, 0, 0, 0, 0, 1],\n",
       "        [0, 0, 0, 0, 0, 0]], dtype=int32)"
      ]
     },
     "execution_count": 60,
     "metadata": {},
     "output_type": "execute_result"
    }
   ],
   "source": [
    "# Get the adjacency matrix\n",
    "A = nx.linalg.graphmatrix.adjacency_matrix(G).todense()\n",
    "A"
   ]
  },
  {
   "cell_type": "code",
   "execution_count": 61,
   "id": "239a111d",
   "metadata": {},
   "outputs": [
    {
     "data": {
      "text/plain": [
       "True"
      ]
     },
     "execution_count": 61,
     "metadata": {},
     "output_type": "execute_result"
    }
   ],
   "source": [
    "# Check if G is a DAG - Method 1\n",
    "check_if_dag_1(G)"
   ]
  },
  {
   "cell_type": "code",
   "execution_count": 62,
   "id": "cfe2b0d0",
   "metadata": {},
   "outputs": [
    {
     "data": {
      "text/plain": [
       "True"
      ]
     },
     "execution_count": 62,
     "metadata": {},
     "output_type": "execute_result"
    }
   ],
   "source": [
    "# Check if G is a DAG - Method 2\n",
    "check_if_dag_2(G)"
   ]
  },
  {
   "cell_type": "markdown",
   "id": "247c7ebd",
   "metadata": {},
   "source": [
    "## Non-DAG"
   ]
  },
  {
   "cell_type": "code",
   "execution_count": 63,
   "id": "79c7b276",
   "metadata": {},
   "outputs": [],
   "source": [
    "# Create a graph\n",
    "G_non = nx.DiGraph()\n",
    "\n",
    "# Add nodes\n",
    "G_non.add_nodes_from(np.arange(6))\n",
    "\n",
    "# Add edges\n",
    "G_non.add_edges_from(\n",
    "    [\n",
    "        (0, 1),\n",
    "        (0, 3),\n",
    "        (0, 5),\n",
    "        (1, 2),\n",
    "        (2, 5),\n",
    "        (3, 4),\n",
    "        (4, 5),\n",
    "        (5, 0),\n",
    "        (0, 0)\n",
    "    ]\n",
    ")"
   ]
  },
  {
   "cell_type": "code",
   "execution_count": 64,
   "id": "4806a555",
   "metadata": {},
   "outputs": [
    {
     "data": {
      "image/png": "[encoded data removed]",
      "text/plain": [
       "<Figure size 432x288 with 1 Axes>"
      ]
     },
     "metadata": {},
     "output_type": "display_data"
    }
   ],
   "source": [
    "# Plot the graph\n",
    "nx.draw(G_non, with_labels=True, node_color='#f2da80')"
   ]
  },
  {
   "cell_type": "code",
   "execution_count": 65,
   "id": "003539e7",
   "metadata": {
    "scrolled": true
   },
   "outputs": [
    {
     "data": {
      "text/plain": [
       "matrix([[1, 1, 0, 1, 0, 1],\n",
       "        [0, 0, 1, 0, 0, 0],\n",
       "        [0, 0, 0, 0, 0, 1],\n",
       "        [0, 0, 0, 0, 1, 0],\n",
       "        [0, 0, 0, 0, 0, 1],\n",
       "        [1, 0, 0, 0, 0, 0]], dtype=int32)"
      ]
     },
     "execution_count": 65,
     "metadata": {},
     "output_type": "execute_result"
    }
   ],
   "source": [
    "# Get the adjacency matrix\n",
    "A = nx.linalg.graphmatrix.adjacency_matrix(G_non).todense()\n",
    "A"
   ]
  },
  {
   "cell_type": "code",
   "execution_count": 66,
   "id": "f07daea1",
   "metadata": {},
   "outputs": [
    {
     "data": {
      "text/plain": [
       "False"
      ]
     },
     "execution_count": 66,
     "metadata": {},
     "output_type": "execute_result"
    }
   ],
   "source": [
    "# Check if G is a DAG - Method 1\n",
    "check_if_dag_1(G_non)"
   ]
  },
  {
   "cell_type": "code",
   "execution_count": 67,
   "id": "e4892c7c",
   "metadata": {},
   "outputs": [
    {
     "data": {
      "text/plain": [
       "False"
      ]
     },
     "execution_count": 67,
     "metadata": {},
     "output_type": "execute_result"
    }
   ],
   "source": [
    "# Check if G is a DAG - Method 2\n",
    "check_if_dag_2(G_non)"
   ]
  }
 ],
 "metadata": {
  "kernelspec": {
   "display_name": "Python [conda env:tf-graphs-probability]",
   "language": "python",
   "name": "conda-env-tf-graphs-probability-py"
  },
  "language_info": {
   "codemirror_mode": {
    "name": "ipython",
    "version": 3
   },
   "file_extension": ".py",
   "mimetype": "text/x-python",
   "name": "python",
   "nbconvert_exporter": "python",
   "pygments_lexer": "ipython3",
   "version": "3.7.11"
  }
 },
 "nbformat": 4,
 "nbformat_minor": 5
}
