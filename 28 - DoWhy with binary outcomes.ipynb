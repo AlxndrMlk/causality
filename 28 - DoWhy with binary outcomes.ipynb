{
 "cells": [
  {
   "cell_type": "code",
   "execution_count": 7,
   "id": "9491d908",
   "metadata": {},
   "outputs": [],
   "source": [
    "import pandas as pd\n",
    "\n",
    "from dowhy import CausalModel\n",
    "\n",
    "import dowhy\n",
    "import dowhy.datasets\n",
    "import statsmodels.api as sm"
   ]
  },
  {
   "cell_type": "code",
   "execution_count": 3,
   "id": "65ef4b97",
   "metadata": {},
   "outputs": [
    {
     "data": {
      "text/plain": [
       "'0.8'"
      ]
     },
     "execution_count": 3,
     "metadata": {},
     "output_type": "execute_result"
    }
   ],
   "source": [
    "dowhy.__version__"
   ]
  },
  {
   "cell_type": "code",
   "execution_count": 10,
   "id": "2a8c183b",
   "metadata": {},
   "outputs": [
    {
     "data": {
      "text/plain": [
       "{'df':            X0        X1        W0        W1     v0      y\n",
       " 0    0.285818 -0.345664 -0.449895  1.215770  False   True\n",
       " 1    1.603875  1.954200  0.607541 -1.304814  False   True\n",
       " 2    0.849318 -0.308795 -1.406656  0.721937  False  False\n",
       " 3   -0.241872  1.015836 -0.432109 -0.194618  False  False\n",
       " 4    0.269501  1.596790 -1.199372  1.236982  False  False\n",
       " ..        ...       ...       ...       ...    ...    ...\n",
       " 995  1.756557  1.544640  1.465123  1.095065   True   True\n",
       " 996  0.803074  1.228985  0.212749  1.810608   True   True\n",
       " 997  1.792432  1.346408 -2.244525  0.869539  False  False\n",
       " 998  0.386898 -0.525876 -0.922149  1.008202  False  False\n",
       " 999 -0.068963  1.426994 -1.758588 -0.878508  False  False\n",
       " \n",
       " [1000 rows x 6 columns],\n",
       " 'treatment_name': ['v0'],\n",
       " 'outcome_name': 'y',\n",
       " 'common_causes_names': ['W0', 'W1'],\n",
       " 'instrument_names': [],\n",
       " 'effect_modifier_names': ['X0', 'X1'],\n",
       " 'frontdoor_variables_names': [],\n",
       " 'dot_graph': 'digraph {v0->y;W0-> v0; W1-> v0;W0-> y; W1-> y;X0-> y; X1-> y;}',\n",
       " 'gml_graph': 'graph[directed 1node[ id \"y\" label \"y\"]node[ id \"W0\" label \"W0\"] node[ id \"W1\" label \"W1\"]node[ id \"v0\" label \"v0\"]edge[source \"v0\" target \"y\"]edge[ source \"W0\" target \"v0\"] edge[ source \"W1\" target \"v0\"]edge[ source \"W0\" target \"y\"] edge[ source \"W1\" target \"y\"]node[ id \"X0\" label \"X0\"] edge[ source \"X0\" target \"y\"] node[ id \"X1\" label \"X1\"] edge[ source \"X1\" target \"y\"]]',\n",
       " 'ate': 0.761}"
      ]
     },
     "execution_count": 10,
     "metadata": {},
     "output_type": "execute_result"
    }
   ],
   "source": [
    "data"
   ]
  },
  {
   "cell_type": "code",
   "execution_count": 24,
   "id": "faa8a0d8",
   "metadata": {},
   "outputs": [
    {
     "name": "stdout",
     "output_type": "stream",
     "text": [
      "generalized_linear_model\n",
      "                 Generalized Linear Model Regression Results                  \n",
      "==============================================================================\n",
      "Dep. Variable:                      y   No. Observations:                 1000\n",
      "Model:                            GLM   Df Residuals:                      996\n",
      "Model Family:                Binomial   Df Model:                            3\n",
      "Link Function:                  Logit   Scale:                          1.0000\n",
      "Method:                          IRLS   Log-Likelihood:                -86.565\n",
      "Date:                Wed, 15 Nov 2023   Deviance:                       173.13\n",
      "Time:                        11:26:33   Pearson chi2:                     190.\n",
      "No. Iterations:                    10   Pseudo R-squ. (CS):             0.6580\n",
      "Covariance Type:            nonrobust                                         \n",
      "==============================================================================\n",
      "                 coef    std err          z      P>|z|      [0.025      0.975]\n",
      "------------------------------------------------------------------------------\n",
      "const         -0.0715      0.214     -0.334      0.738      -0.491       0.348\n",
      "x1            11.2143      1.503      7.463      0.000       8.269      14.160\n",
      "x2             5.0622      0.577      8.778      0.000       3.932       6.192\n",
      "x3             5.2684      0.584      9.015      0.000       4.123       6.414\n",
      "==============================================================================\n",
      "Increasing the treatment variable(s) [v0] from 0 to 1 causes an increase of 0.39056862847369767 in the expected value of the outcome [y], over the data distribution/population represented by the dataset.\n"
     ]
    }
   ],
   "source": [
    "data = dowhy.datasets.linear_dataset(10, num_common_causes=2, num_samples=1000,\n",
    "                                     num_instruments=0, num_effect_modifiers=0,\n",
    "                                     num_treatments=1,\n",
    "                                     treatment_is_binary=True,\n",
    "                                    outcome_is_binary=True)\n",
    "\n",
    "df = data['df']\n",
    "\n",
    "model = CausalModel(df,\n",
    "                    data[\"treatment_name\"],data[\"outcome_name\"],\n",
    "                    data[\"dot_graph\"],\n",
    "                   missing_nodes_as_confounders=True)\n",
    "\n",
    "identified_estimand = model.identify_effect(proceed_when_unidentifiable=True)\n",
    "\n",
    "causal_estimate = model.estimate_effect(\n",
    "    identified_estimand,\n",
    "    method_name=\"backdoor.generalized_linear_model\",\n",
    "    confidence_intervals=False,\n",
    "    test_significance=False,\n",
    "    method_params = {\n",
    "        'num_null_simulations':10,\n",
    "        'num_simulations':10,\n",
    "        'num_quantiles_to_discretize_cont_cols':10,\n",
    "        'fit_method': \"statsmodels\",\n",
    "        'glm_family': sm.families.Binomial(), # logistic regression\n",
    "#         'need_conditional_estimates':False\n",
    "    },\n",
    "   )\n",
    "print(causal_estimate.estimator.model.summary())\n",
    "causal_estimate.interpret()"
   ]
  },
  {
   "cell_type": "code",
   "execution_count": 25,
   "id": "113cc6cb",
   "metadata": {},
   "outputs": [
    {
     "data": {
      "image/png": "[encoded data removed]",
      "text/latex": [
       "$\\displaystyle 0.411$"
      ],
      "text/plain": [
       "0.411"
      ]
     },
     "execution_count": 25,
     "metadata": {},
     "output_type": "execute_result"
    }
   ],
   "source": [
    "data['ate']"
   ]
  },
  {
   "cell_type": "code",
   "execution_count": null,
   "id": "f0e0f888",
   "metadata": {},
   "outputs": [],
   "source": []
  },
  {
   "cell_type": "code",
   "execution_count": null,
   "id": "58c40f92",
   "metadata": {},
   "outputs": [],
   "source": []
  }
 ],
 "metadata": {
  "kernelspec": {
   "display_name": "Python [conda env:causal_book_py39_exprmnt_cuda117]",
   "language": "python",
   "name": "conda-env-causal_book_py39_exprmnt_cuda117-py"
  },
  "language_info": {
   "codemirror_mode": {
    "name": "ipython",
    "version": 3
   },
   "file_extension": ".py",
   "mimetype": "text/x-python",
   "name": "python",
   "nbconvert_exporter": "python",
   "pygments_lexer": "ipython3",
   "version": "3.9.16"
  }
 },
 "nbformat": 4,
 "nbformat_minor": 5
}
