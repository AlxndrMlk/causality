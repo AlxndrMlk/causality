{
 "cells": [
  {
   "cell_type": "code",
   "execution_count": 1,
   "id": "ca1ac6de",
   "metadata": {},
   "outputs": [
    {
     "name": "stderr",
     "output_type": "stream",
     "text": [
      "[2022-02-21 21:10:06,017][__init__.py - line 31] - INFO - You are using ``pytorch`` as the backend.\n"
     ]
    }
   ],
   "source": [
    "import os\n",
    "os.environ['CASTLE_BACKEND'] = 'pytorch'\n",
    "\n",
    "from tqdm import tqdm\n",
    "\n",
    "from castle.common import GraphDAG\n",
    "from castle.metrics import MetricsDAG\n",
    "from castle.datasets import IIDSimulation, DAG\n",
    "from castle.algorithms import PC, RL, CORL, DirectLiNGAM, ICALiNGAM, Notears, GOLEM, NotearsNonlinear"
   ]
  },
  {
   "cell_type": "code",
   "execution_count": 2,
   "id": "eda5886f",
   "metadata": {},
   "outputs": [
    {
     "data": {
      "text/plain": [
       "'NVIDIA GeForce GTX 1650'"
      ]
     },
     "execution_count": 2,
     "metadata": {},
     "output_type": "execute_result"
    }
   ],
   "source": [
    "# Check if GPU is available\n",
    "import torch\n",
    "torch.cuda.get_device_name(0)"
   ]
  },
  {
   "cell_type": "code",
   "execution_count": 3,
   "id": "0b7259f6",
   "metadata": {},
   "outputs": [
    {
     "name": "stderr",
     "output_type": "stream",
     "text": [
      "[2022-02-21 21:10:07,338][simulator.py - line 270] - INFO - Finished synthetic dataset\n"
     ]
    }
   ],
   "source": [
    "# Data simulation, simulate true causal dag and train_data.\n",
    "weighted_random_dag = DAG.erdos_renyi(n_nodes=10, n_edges=10, \n",
    "                                      weight_range=(-5., 5.), seed=1)\n",
    "dataset = IIDSimulation(W=weighted_random_dag, n=2000, method='linear', \n",
    "                        sem_type='gauss')\n",
    "\n",
    "true_causal_matrix, X = dataset.B, dataset.X"
   ]
  },
  {
   "cell_type": "code",
   "execution_count": 4,
   "id": "4bd78568",
   "metadata": {},
   "outputs": [
    {
     "data": {
      "image/png": "[encoded data removed]",
      "text/plain": [
       "<Figure size 288x216 with 2 Axes>"
      ]
     },
     "metadata": {
      "needs_background": "light"
     },
     "output_type": "display_data"
    },
    {
     "data": {
      "text/plain": [
       "<castle.common.plot_dag.GraphDAG at 0x2141cbd2370>"
      ]
     },
     "execution_count": 4,
     "metadata": {},
     "output_type": "execute_result"
    }
   ],
   "source": [
    "GraphDAG(true_causal_matrix)"
   ]
  },
  {
   "cell_type": "code",
   "execution_count": 4,
   "id": "989de80d",
   "metadata": {},
   "outputs": [
    {
     "name": "stderr",
     "output_type": "stream",
     "text": [
      "[2022-02-21 21:10:50,375][rl.py - line 231] - INFO - GPU is available.\n",
      "[2022-02-21 21:10:50,397][rl.py - line 273] - INFO - Python version is 3.8.12\n",
      "[2022-02-21 21:10:50,452][rl.py - line 298] - INFO - Original sl: 1.5460639482703924, su: 7.8187149405738205, strue: -8.453936051729608\n",
      "[2022-02-21 21:10:50,452][rl.py - line 299] - INFO - Transfomed sl: 1.5460639482703924, su: 7.8187149405738205, lambda2: 0.001, true: -7.971111426628108\n",
      "[2022-02-21 21:10:53,956][rl.py - line 343] - INFO - Finished creating training dataset and reward class\n",
      "[2022-02-21 21:10:53,956][rl.py - line 359] - INFO - Starting training.\n",
      "  0%|                                                                                        | 0/20000 [00:00<?, ?it/s][2022-02-21 21:10:53,988][rl.py - line 371] - INFO - Shape of actor.input: torch.Size([64, 10, 64])\n",
      "C:\\Users\\aleks\\anaconda3\\envs\\econml-dowhy-py38\\lib\\site-packages\\castle\\algorithms\\gradient\\rl\\torch\\models\\encoder\\encoder.py:175: UserWarning: Implicit dimension choice for softmax has been deprecated. Change the call to include dim=X as an argument.\n",
      "  outputs = F.softmax(outputs)  # num_heads*[batch_size, seq_length, seq_length]\n",
      "[2022-02-21 21:11:00,441][rl.py - line 424] - INFO - [iter 1] reward_batch: -2.282, max_reward: -0.4415, max_reward_batch: -0.4415\n",
      "[2022-02-21 21:11:00,441][rl.py - line 437] - INFO - [iter 1] lambda1 1.0, upper 5.0, lambda2 0.01, upper 0.01, score_min 0.4075, cyc_min 34.03\n",
      "  0%|                                                                             | 1/20000 [00:06<36:06:51,  6.50s/it]C:\\Users\\aleks\\anaconda3\\envs\\econml-dowhy-py38\\lib\\site-packages\\castle\\algorithms\\gradient\\rl\\torch\\models\\encoder\\encoder.py:175: UserWarning: Implicit dimension choice for softmax has been deprecated. Change the call to include dim=X as an argument.\n",
      "  outputs = F.softmax(outputs)  # num_heads*[batch_size, seq_length, seq_length]\n",
      "  2%|█▉                                                                          | 499/20000 [02:06<1:13:05,  4.45it/s][2022-02-21 21:13:00,313][rl.py - line 424] - INFO - [iter 500] reward_batch: -2.242, max_reward: -0.6309, max_reward_batch: -1.104\n",
      "  5%|███▊                                                                        | 999/20000 [03:58<1:11:38,  4.42it/s][2022-02-21 21:14:52,869][rl.py - line 424] - INFO - [iter 1000] reward_batch: -1.935, max_reward: -0.6188, max_reward_batch: -0.9737\n",
      "[2022-02-21 21:14:53,025][rl.py - line 437] - INFO - [iter 1000] lambda1 0.6188, upper 0.6188, lambda2 0.01, upper 0.01, score_min 0.6188, cyc_min 0.0\n",
      "  5%|███▊                                                                       | 1000/20000 [03:59<1:34:54,  3.34it/s]C:\\Users\\aleks\\anaconda3\\envs\\econml-dowhy-py38\\lib\\site-packages\\castle\\algorithms\\gradient\\rl\\torch\\models\\encoder\\encoder.py:175: UserWarning: Implicit dimension choice for softmax has been deprecated. Change the call to include dim=X as an argument.\n",
      "  outputs = F.softmax(outputs)  # num_heads*[batch_size, seq_length, seq_length]\n",
      "  7%|█████▌                                                                     | 1499/20000 [05:49<1:07:07,  4.59it/s][2022-02-21 21:16:43,299][rl.py - line 424] - INFO - [iter 1500] reward_batch: -1.531, max_reward: -0.6188, max_reward_batch: -1.015\n",
      " 10%|███████▍                                                                   | 1999/20000 [07:37<1:06:46,  4.49it/s][2022-02-21 21:18:31,901][rl.py - line 424] - INFO - [iter 2000] reward_batch: -1.434, max_reward: -0.6188, max_reward_batch: -0.6336\n",
      "[2022-02-21 21:18:32,167][rl.py - line 437] - INFO - [iter 2000] lambda1 0.6188, upper 0.6188, lambda2 0.01, upper 0.01, score_min 0.6188, cyc_min 0.0\n",
      " 10%|███████▌                                                                   | 2000/20000 [07:38<1:38:53,  3.03it/s]C:\\Users\\aleks\\anaconda3\\envs\\econml-dowhy-py38\\lib\\site-packages\\castle\\algorithms\\gradient\\rl\\torch\\models\\encoder\\encoder.py:175: UserWarning: Implicit dimension choice for softmax has been deprecated. Change the call to include dim=X as an argument.\n",
      "  outputs = F.softmax(outputs)  # num_heads*[batch_size, seq_length, seq_length]\n",
      " 12%|█████████▎                                                                 | 2499/20000 [09:29<1:05:08,  4.48it/s][2022-02-21 21:20:23,728][rl.py - line 424] - INFO - [iter 2500] reward_batch: -1.249, max_reward: -0.6188, max_reward_batch: -0.633\n",
      " 15%|███████████▏                                                               | 2999/20000 [11:22<1:00:46,  4.66it/s][2022-02-21 21:22:16,875][rl.py - line 424] - INFO - [iter 3000] reward_batch: -0.9653, max_reward: -0.6188, max_reward_batch: -0.6203\n",
      "[2022-02-21 21:22:17,471][rl.py - line 437] - INFO - [iter 3000] lambda1 0.6188, upper 0.6188, lambda2 0.01, upper 0.01, score_min 0.6188, cyc_min 0.0\n",
      " 15%|███████████▎                                                               | 3000/20000 [11:23<1:59:51,  2.36it/s]C:\\Users\\aleks\\anaconda3\\envs\\econml-dowhy-py38\\lib\\site-packages\\castle\\algorithms\\gradient\\rl\\torch\\models\\encoder\\encoder.py:175: UserWarning: Implicit dimension choice for softmax has been deprecated. Change the call to include dim=X as an argument.\n",
      "  outputs = F.softmax(outputs)  # num_heads*[batch_size, seq_length, seq_length]\n",
      " 17%|█████████████                                                              | 3499/20000 [13:14<1:00:40,  4.53it/s][2022-02-21 21:24:08,422][rl.py - line 424] - INFO - [iter 3500] reward_batch: -1.043, max_reward: -0.6188, max_reward_batch: -0.6209\n",
      " 20%|███████████████▍                                                             | 3999/20000 [15:03<57:53,  4.61it/s][2022-02-21 21:25:57,884][rl.py - line 424] - INFO - [iter 4000] reward_batch: -0.8543, max_reward: -0.6188, max_reward_batch: -0.621\n",
      "[2022-02-21 21:25:58,606][rl.py - line 437] - INFO - [iter 4000] lambda1 0.6188, upper 0.6188, lambda2 0.01, upper 0.01, score_min 0.6188, cyc_min 0.0\n",
      " 20%|███████████████                                                            | 4000/20000 [15:04<2:03:39,  2.16it/s]C:\\Users\\aleks\\anaconda3\\envs\\econml-dowhy-py38\\lib\\site-packages\\castle\\algorithms\\gradient\\rl\\torch\\models\\encoder\\encoder.py:175: UserWarning: Implicit dimension choice for softmax has been deprecated. Change the call to include dim=X as an argument.\n",
      "  outputs = F.softmax(outputs)  # num_heads*[batch_size, seq_length, seq_length]\n",
      " 22%|████████████████▊                                                          | 4499/20000 [16:53<1:04:07,  4.03it/s][2022-02-21 21:27:47,518][rl.py - line 424] - INFO - [iter 4500] reward_batch: -0.8488, max_reward: -0.6188, max_reward_batch: -0.6211\n",
      " 24%|██████████████████▎                                                        | 4886/20000 [31:17<1:36:46,  2.60it/s]\n"
     ]
    },
    {
     "ename": "RuntimeError",
     "evalue": "CUDA out of memory. Tried to allocate 2.00 MiB (GPU 0; 4.00 GiB total capacity; 535.21 MiB already allocated; 1.59 GiB free; 550.00 MiB reserved in total by PyTorch) If reserved memory is >> allocated memory try setting max_split_size_mb to avoid fragmentation.  See documentation for Memory Management and PYTORCH_CUDA_ALLOC_CONF",
     "output_type": "error",
     "traceback": [
      "\u001b[1;31m---------------------------------------------------------------------------\u001b[0m",
      "\u001b[1;31mRuntimeError\u001b[0m                              Traceback (most recent call last)",
      "\u001b[1;32m~\\AppData\\Local\\Temp/ipykernel_36356/3516016318.py\u001b[0m in \u001b[0;36m<module>\u001b[1;34m\u001b[0m\n\u001b[0;32m      3\u001b[0m )\n\u001b[0;32m      4\u001b[0m \u001b[1;33m\u001b[0m\u001b[0m\n\u001b[1;32m----> 5\u001b[1;33m \u001b[0mrl\u001b[0m\u001b[1;33m.\u001b[0m\u001b[0mlearn\u001b[0m\u001b[1;33m(\u001b[0m\u001b[0mX\u001b[0m\u001b[1;33m)\u001b[0m\u001b[1;33m\u001b[0m\u001b[1;33m\u001b[0m\u001b[0m\n\u001b[0m",
      "\u001b[1;32m~\\anaconda3\\envs\\econml-dowhy-py38\\lib\\site-packages\\castle\\algorithms\\gradient\\rl\\torch\\rl.py\u001b[0m in \u001b[0;36mlearn\u001b[1;34m(self, data, columns, dag, **kwargs)\u001b[0m\n\u001b[0;32m    264\u001b[0m         \u001b[0mself\u001b[0m\u001b[1;33m.\u001b[0m\u001b[0mmax_length\u001b[0m \u001b[1;33m=\u001b[0m \u001b[0mX\u001b[0m\u001b[1;33m.\u001b[0m\u001b[0mshape\u001b[0m\u001b[1;33m[\u001b[0m\u001b[1;36m1\u001b[0m\u001b[1;33m]\u001b[0m\u001b[1;33m\u001b[0m\u001b[1;33m\u001b[0m\u001b[0m\n\u001b[0;32m    265\u001b[0m \u001b[1;33m\u001b[0m\u001b[0m\n\u001b[1;32m--> 266\u001b[1;33m         \u001b[0mcausal_matrix\u001b[0m \u001b[1;33m=\u001b[0m \u001b[0mself\u001b[0m\u001b[1;33m.\u001b[0m\u001b[0m_rl\u001b[0m\u001b[1;33m(\u001b[0m\u001b[0mX\u001b[0m\u001b[1;33m)\u001b[0m\u001b[1;33m\u001b[0m\u001b[1;33m\u001b[0m\u001b[0m\n\u001b[0m\u001b[0;32m    267\u001b[0m         \u001b[0mself\u001b[0m\u001b[1;33m.\u001b[0m\u001b[0mcausal_matrix\u001b[0m \u001b[1;33m=\u001b[0m \u001b[0mcausal_matrix\u001b[0m\u001b[1;33m\u001b[0m\u001b[1;33m\u001b[0m\u001b[0m\n\u001b[0;32m    268\u001b[0m \u001b[1;33m\u001b[0m\u001b[0m\n",
      "\u001b[1;32m~\\anaconda3\\envs\\econml-dowhy-py38\\lib\\site-packages\\castle\\algorithms\\gradient\\rl\\torch\\rl.py\u001b[0m in \u001b[0;36m_rl\u001b[1;34m(self, X)\u001b[0m\n\u001b[0;32m    372\u001b[0m \u001b[1;33m\u001b[0m\u001b[0m\n\u001b[0;32m    373\u001b[0m             \u001b[1;31m# actor\u001b[0m\u001b[1;33m\u001b[0m\u001b[1;33m\u001b[0m\u001b[1;33m\u001b[0m\u001b[0m\n\u001b[1;32m--> 374\u001b[1;33m             \u001b[0mactor\u001b[0m\u001b[1;33m.\u001b[0m\u001b[0mbuild_permutation\u001b[0m\u001b[1;33m(\u001b[0m\u001b[0minputs\u001b[0m\u001b[1;33m)\u001b[0m\u001b[1;33m\u001b[0m\u001b[1;33m\u001b[0m\u001b[0m\n\u001b[0m\u001b[0;32m    375\u001b[0m             \u001b[0mgraphs_feed\u001b[0m \u001b[1;33m=\u001b[0m \u001b[0mactor\u001b[0m\u001b[1;33m.\u001b[0m\u001b[0mgraphs_\u001b[0m\u001b[1;33m\u001b[0m\u001b[1;33m\u001b[0m\u001b[0m\n\u001b[0;32m    376\u001b[0m \u001b[1;33m\u001b[0m\u001b[0m\n",
      "\u001b[1;32m~\\anaconda3\\envs\\econml-dowhy-py38\\lib\\site-packages\\castle\\algorithms\\gradient\\rl\\torch\\models\\actor_graph.py\u001b[0m in \u001b[0;36mbuild_permutation\u001b[1;34m(self, inputs)\u001b[0m\n\u001b[0;32m    183\u001b[0m \u001b[1;33m\u001b[0m\u001b[0m\n\u001b[0;32m    184\u001b[0m         \u001b[1;31m# decoder\u001b[0m\u001b[1;33m\u001b[0m\u001b[1;33m\u001b[0m\u001b[1;33m\u001b[0m\u001b[0m\n\u001b[1;32m--> 185\u001b[1;33m         \u001b[0mself\u001b[0m\u001b[1;33m.\u001b[0m\u001b[0msamples\u001b[0m\u001b[1;33m,\u001b[0m \u001b[0mself\u001b[0m\u001b[1;33m.\u001b[0m\u001b[0mscores\u001b[0m\u001b[1;33m,\u001b[0m \u001b[0mself\u001b[0m\u001b[1;33m.\u001b[0m\u001b[0mentropy\u001b[0m \u001b[1;33m=\u001b[0m \u001b[0mself\u001b[0m\u001b[1;33m.\u001b[0m\u001b[0mdecoder\u001b[0m\u001b[1;33m(\u001b[0m\u001b[0mself\u001b[0m\u001b[1;33m.\u001b[0m\u001b[0mencoder_output\u001b[0m\u001b[1;33m)\u001b[0m\u001b[1;33m\u001b[0m\u001b[1;33m\u001b[0m\u001b[0m\n\u001b[0m\u001b[0;32m    186\u001b[0m \u001b[1;33m\u001b[0m\u001b[0m\n\u001b[0;32m    187\u001b[0m         \u001b[1;31m# self.samples is seq_lenthg * batch size * seq_length\u001b[0m\u001b[1;33m\u001b[0m\u001b[1;33m\u001b[0m\u001b[1;33m\u001b[0m\u001b[0m\n",
      "\u001b[1;32m~\\anaconda3\\envs\\econml-dowhy-py38\\lib\\site-packages\\torch\\nn\\modules\\module.py\u001b[0m in \u001b[0;36m_call_impl\u001b[1;34m(self, *input, **kwargs)\u001b[0m\n\u001b[0;32m   1100\u001b[0m         if not (self._backward_hooks or self._forward_hooks or self._forward_pre_hooks or _global_backward_hooks\n\u001b[0;32m   1101\u001b[0m                 or _global_forward_hooks or _global_forward_pre_hooks):\n\u001b[1;32m-> 1102\u001b[1;33m             \u001b[1;32mreturn\u001b[0m \u001b[0mforward_call\u001b[0m\u001b[1;33m(\u001b[0m\u001b[1;33m*\u001b[0m\u001b[0minput\u001b[0m\u001b[1;33m,\u001b[0m \u001b[1;33m**\u001b[0m\u001b[0mkwargs\u001b[0m\u001b[1;33m)\u001b[0m\u001b[1;33m\u001b[0m\u001b[1;33m\u001b[0m\u001b[0m\n\u001b[0m\u001b[0;32m   1103\u001b[0m         \u001b[1;31m# Do not call functions when jit is used\u001b[0m\u001b[1;33m\u001b[0m\u001b[1;33m\u001b[0m\u001b[1;33m\u001b[0m\u001b[0m\n\u001b[0;32m   1104\u001b[0m         \u001b[0mfull_backward_hooks\u001b[0m\u001b[1;33m,\u001b[0m \u001b[0mnon_full_backward_hooks\u001b[0m \u001b[1;33m=\u001b[0m \u001b[1;33m[\u001b[0m\u001b[1;33m]\u001b[0m\u001b[1;33m,\u001b[0m \u001b[1;33m[\u001b[0m\u001b[1;33m]\u001b[0m\u001b[1;33m\u001b[0m\u001b[1;33m\u001b[0m\u001b[0m\n",
      "\u001b[1;32m~\\anaconda3\\envs\\econml-dowhy-py38\\lib\\site-packages\\castle\\algorithms\\gradient\\rl\\torch\\models\\decoder\\decoder.py\u001b[0m in \u001b[0;36mforward\u001b[1;34m(self, encoder_output)\u001b[0m\n\u001b[0;32m    271\u001b[0m \u001b[1;33m\u001b[0m\u001b[0m\n\u001b[0;32m    272\u001b[0m         \u001b[1;32mif\u001b[0m \u001b[0mself\u001b[0m\u001b[1;33m.\u001b[0m\u001b[0mdecoder_activation\u001b[0m \u001b[1;33m==\u001b[0m \u001b[1;34m'tanh'\u001b[0m\u001b[1;33m:\u001b[0m    \u001b[1;31m# Original implementation by paper\u001b[0m\u001b[1;33m\u001b[0m\u001b[1;33m\u001b[0m\u001b[0m\n\u001b[1;32m--> 273\u001b[1;33m             \u001b[0mfinal_sum\u001b[0m \u001b[1;33m=\u001b[0m \u001b[0mself\u001b[0m\u001b[1;33m.\u001b[0m\u001b[0mactivation\u001b[0m\u001b[1;33m(\u001b[0m\u001b[0mtiled_l\u001b[0m \u001b[1;33m+\u001b[0m \u001b[0mtiled_r\u001b[0m\u001b[1;33m)\u001b[0m\u001b[1;33m\u001b[0m\u001b[1;33m\u001b[0m\u001b[0m\n\u001b[0m\u001b[0;32m    274\u001b[0m         \u001b[1;32melif\u001b[0m \u001b[0mself\u001b[0m\u001b[1;33m.\u001b[0m\u001b[0mdecoder_activation\u001b[0m \u001b[1;33m==\u001b[0m \u001b[1;34m'relu'\u001b[0m\u001b[1;33m:\u001b[0m\u001b[1;33m\u001b[0m\u001b[1;33m\u001b[0m\u001b[0m\n\u001b[0;32m    275\u001b[0m             \u001b[0mfinal_sum\u001b[0m \u001b[1;33m=\u001b[0m \u001b[0mself\u001b[0m\u001b[1;33m.\u001b[0m\u001b[0mactivation\u001b[0m\u001b[1;33m(\u001b[0m\u001b[0mtiled_l\u001b[0m \u001b[1;33m+\u001b[0m \u001b[0mtiled_r\u001b[0m\u001b[1;33m)\u001b[0m\u001b[1;33m\u001b[0m\u001b[1;33m\u001b[0m\u001b[0m\n",
      "\u001b[1;32m~\\anaconda3\\envs\\econml-dowhy-py38\\lib\\site-packages\\torch\\nn\\modules\\module.py\u001b[0m in \u001b[0;36m_call_impl\u001b[1;34m(self, *input, **kwargs)\u001b[0m\n\u001b[0;32m   1100\u001b[0m         if not (self._backward_hooks or self._forward_hooks or self._forward_pre_hooks or _global_backward_hooks\n\u001b[0;32m   1101\u001b[0m                 or _global_forward_hooks or _global_forward_pre_hooks):\n\u001b[1;32m-> 1102\u001b[1;33m             \u001b[1;32mreturn\u001b[0m \u001b[0mforward_call\u001b[0m\u001b[1;33m(\u001b[0m\u001b[1;33m*\u001b[0m\u001b[0minput\u001b[0m\u001b[1;33m,\u001b[0m \u001b[1;33m**\u001b[0m\u001b[0mkwargs\u001b[0m\u001b[1;33m)\u001b[0m\u001b[1;33m\u001b[0m\u001b[1;33m\u001b[0m\u001b[0m\n\u001b[0m\u001b[0;32m   1103\u001b[0m         \u001b[1;31m# Do not call functions when jit is used\u001b[0m\u001b[1;33m\u001b[0m\u001b[1;33m\u001b[0m\u001b[1;33m\u001b[0m\u001b[0m\n\u001b[0;32m   1104\u001b[0m         \u001b[0mfull_backward_hooks\u001b[0m\u001b[1;33m,\u001b[0m \u001b[0mnon_full_backward_hooks\u001b[0m \u001b[1;33m=\u001b[0m \u001b[1;33m[\u001b[0m\u001b[1;33m]\u001b[0m\u001b[1;33m,\u001b[0m \u001b[1;33m[\u001b[0m\u001b[1;33m]\u001b[0m\u001b[1;33m\u001b[0m\u001b[1;33m\u001b[0m\u001b[0m\n",
      "\u001b[1;32m~\\anaconda3\\envs\\econml-dowhy-py38\\lib\\site-packages\\torch\\nn\\modules\\activation.py\u001b[0m in \u001b[0;36mforward\u001b[1;34m(self, input)\u001b[0m\n\u001b[0;32m    347\u001b[0m \u001b[1;33m\u001b[0m\u001b[0m\n\u001b[0;32m    348\u001b[0m     \u001b[1;32mdef\u001b[0m \u001b[0mforward\u001b[0m\u001b[1;33m(\u001b[0m\u001b[0mself\u001b[0m\u001b[1;33m,\u001b[0m \u001b[0minput\u001b[0m\u001b[1;33m:\u001b[0m \u001b[0mTensor\u001b[0m\u001b[1;33m)\u001b[0m \u001b[1;33m->\u001b[0m \u001b[0mTensor\u001b[0m\u001b[1;33m:\u001b[0m\u001b[1;33m\u001b[0m\u001b[1;33m\u001b[0m\u001b[0m\n\u001b[1;32m--> 349\u001b[1;33m         \u001b[1;32mreturn\u001b[0m \u001b[0mtorch\u001b[0m\u001b[1;33m.\u001b[0m\u001b[0mtanh\u001b[0m\u001b[1;33m(\u001b[0m\u001b[0minput\u001b[0m\u001b[1;33m)\u001b[0m\u001b[1;33m\u001b[0m\u001b[1;33m\u001b[0m\u001b[0m\n\u001b[0m\u001b[0;32m    350\u001b[0m \u001b[1;33m\u001b[0m\u001b[0m\n\u001b[0;32m    351\u001b[0m \u001b[1;32mclass\u001b[0m \u001b[0mSiLU\u001b[0m\u001b[1;33m(\u001b[0m\u001b[0mModule\u001b[0m\u001b[1;33m)\u001b[0m\u001b[1;33m:\u001b[0m\u001b[1;33m\u001b[0m\u001b[1;33m\u001b[0m\u001b[0m\n",
      "\u001b[1;31mRuntimeError\u001b[0m: CUDA out of memory. Tried to allocate 2.00 MiB (GPU 0; 4.00 GiB total capacity; 535.21 MiB already allocated; 1.59 GiB free; 550.00 MiB reserved in total by PyTorch) If reserved memory is >> allocated memory try setting max_split_size_mb to avoid fragmentation.  See documentation for Memory Management and PYTORCH_CUDA_ALLOC_CONF"
     ]
    }
   ],
   "source": [
    "rl = RL(\n",
    "    device_type='gpu'\n",
    ")\n",
    "\n",
    "rl.learn(X)"
   ]
  },
  {
   "cell_type": "code",
   "execution_count": 6,
   "id": "67f185c9",
   "metadata": {
    "scrolled": true
   },
   "outputs": [
    {
     "name": "stderr",
     "output_type": "stream",
     "text": [
      "[2022-01-08 18:48:42,629][nonlinear.py - line 129] - INFO - GPU is available.\n",
      "[2022-01-08 18:48:42,629][corl.py - line 173] - INFO - GPU is available.\n"
     ]
    },
    {
     "name": "stdout",
     "output_type": "stream",
     "text": [
      "\n",
      "Learning pc...\n",
      "\n",
      "\n",
      "Learning direct_lingam...\n",
      "\n"
     ]
    },
    {
     "name": "stderr",
     "output_type": "stream",
     "text": [
      "C:\\Users\\aleks\\anaconda3\\envs\\econml-dowhy-py38\\lib\\site-packages\\sklearn\\linear_model\\_base.py:133: FutureWarning: The default of 'normalize' will be set to False in version 1.2 and deprecated in version 1.4.\n",
      "If you wish to scale the data, use Pipeline with a StandardScaler in a preprocessing stage. To reproduce the previous behavior:\n",
      "\n",
      "from sklearn.pipeline import make_pipeline\n",
      "\n",
      "model = make_pipeline(StandardScaler(with_mean=False), LassoLarsIC())\n",
      "\n",
      "If you wish to pass a sample_weight parameter, you need to pass it as a fit parameter to each step of the pipeline as follows:\n",
      "\n",
      "kwargs = {s[0] + '__sample_weight': sample_weight for s in model.steps}\n",
      "model.fit(X, y, **kwargs)\n",
      "\n",
      "Set parameter alpha to: original_alpha * np.sqrt(n_samples). \n",
      "  warnings.warn(\n",
      "C:\\Users\\aleks\\anaconda3\\envs\\econml-dowhy-py38\\lib\\site-packages\\sklearn\\linear_model\\_base.py:133: FutureWarning: The default of 'normalize' will be set to False in version 1.2 and deprecated in version 1.4.\n",
      "If you wish to scale the data, use Pipeline with a StandardScaler in a preprocessing stage. To reproduce the previous behavior:\n",
      "\n",
      "from sklearn.pipeline import make_pipeline\n",
      "\n",
      "model = make_pipeline(StandardScaler(with_mean=False), LassoLarsIC())\n",
      "\n",
      "If you wish to pass a sample_weight parameter, you need to pass it as a fit parameter to each step of the pipeline as follows:\n",
      "\n",
      "kwargs = {s[0] + '__sample_weight': sample_weight for s in model.steps}\n",
      "model.fit(X, y, **kwargs)\n",
      "\n",
      "Set parameter alpha to: original_alpha * np.sqrt(n_samples). \n",
      "  warnings.warn(\n",
      "C:\\Users\\aleks\\anaconda3\\envs\\econml-dowhy-py38\\lib\\site-packages\\sklearn\\linear_model\\_base.py:133: FutureWarning: The default of 'normalize' will be set to False in version 1.2 and deprecated in version 1.4.\n",
      "If you wish to scale the data, use Pipeline with a StandardScaler in a preprocessing stage. To reproduce the previous behavior:\n",
      "\n",
      "from sklearn.pipeline import make_pipeline\n",
      "\n",
      "model = make_pipeline(StandardScaler(with_mean=False), LassoLarsIC())\n",
      "\n",
      "If you wish to pass a sample_weight parameter, you need to pass it as a fit parameter to each step of the pipeline as follows:\n",
      "\n",
      "kwargs = {s[0] + '__sample_weight': sample_weight for s in model.steps}\n",
      "model.fit(X, y, **kwargs)\n",
      "\n",
      "Set parameter alpha to: original_alpha * np.sqrt(n_samples). \n",
      "  warnings.warn(\n",
      "C:\\Users\\aleks\\anaconda3\\envs\\econml-dowhy-py38\\lib\\site-packages\\sklearn\\linear_model\\_base.py:133: FutureWarning: The default of 'normalize' will be set to False in version 1.2 and deprecated in version 1.4.\n",
      "If you wish to scale the data, use Pipeline with a StandardScaler in a preprocessing stage. To reproduce the previous behavior:\n",
      "\n",
      "from sklearn.pipeline import make_pipeline\n",
      "\n",
      "model = make_pipeline(StandardScaler(with_mean=False), LassoLarsIC())\n",
      "\n",
      "If you wish to pass a sample_weight parameter, you need to pass it as a fit parameter to each step of the pipeline as follows:\n",
      "\n",
      "kwargs = {s[0] + '__sample_weight': sample_weight for s in model.steps}\n",
      "model.fit(X, y, **kwargs)\n",
      "\n",
      "Set parameter alpha to: original_alpha * np.sqrt(n_samples). \n",
      "  warnings.warn(\n",
      "C:\\Users\\aleks\\anaconda3\\envs\\econml-dowhy-py38\\lib\\site-packages\\sklearn\\linear_model\\_base.py:133: FutureWarning: The default of 'normalize' will be set to False in version 1.2 and deprecated in version 1.4.\n",
      "If you wish to scale the data, use Pipeline with a StandardScaler in a preprocessing stage. To reproduce the previous behavior:\n",
      "\n",
      "from sklearn.pipeline import make_pipeline\n",
      "\n",
      "model = make_pipeline(StandardScaler(with_mean=False), LassoLarsIC())\n",
      "\n",
      "If you wish to pass a sample_weight parameter, you need to pass it as a fit parameter to each step of the pipeline as follows:\n",
      "\n",
      "kwargs = {s[0] + '__sample_weight': sample_weight for s in model.steps}\n",
      "model.fit(X, y, **kwargs)\n",
      "\n",
      "Set parameter alpha to: original_alpha * np.sqrt(n_samples). \n",
      "  warnings.warn(\n",
      "C:\\Users\\aleks\\anaconda3\\envs\\econml-dowhy-py38\\lib\\site-packages\\sklearn\\linear_model\\_base.py:133: FutureWarning: The default of 'normalize' will be set to False in version 1.2 and deprecated in version 1.4.\n",
      "If you wish to scale the data, use Pipeline with a StandardScaler in a preprocessing stage. To reproduce the previous behavior:\n",
      "\n",
      "from sklearn.pipeline import make_pipeline\n",
      "\n",
      "model = make_pipeline(StandardScaler(with_mean=False), LassoLarsIC())\n",
      "\n",
      "If you wish to pass a sample_weight parameter, you need to pass it as a fit parameter to each step of the pipeline as follows:\n",
      "\n",
      "kwargs = {s[0] + '__sample_weight': sample_weight for s in model.steps}\n",
      "model.fit(X, y, **kwargs)\n",
      "\n",
      "Set parameter alpha to: original_alpha * np.sqrt(n_samples). \n",
      "  warnings.warn(\n",
      "C:\\Users\\aleks\\anaconda3\\envs\\econml-dowhy-py38\\lib\\site-packages\\sklearn\\linear_model\\_base.py:133: FutureWarning: The default of 'normalize' will be set to False in version 1.2 and deprecated in version 1.4.\n",
      "If you wish to scale the data, use Pipeline with a StandardScaler in a preprocessing stage. To reproduce the previous behavior:\n",
      "\n",
      "from sklearn.pipeline import make_pipeline\n",
      "\n",
      "model = make_pipeline(StandardScaler(with_mean=False), LassoLarsIC())\n",
      "\n",
      "If you wish to pass a sample_weight parameter, you need to pass it as a fit parameter to each step of the pipeline as follows:\n",
      "\n",
      "kwargs = {s[0] + '__sample_weight': sample_weight for s in model.steps}\n",
      "model.fit(X, y, **kwargs)\n",
      "\n",
      "Set parameter alpha to: original_alpha * np.sqrt(n_samples). \n",
      "  warnings.warn(\n",
      "C:\\Users\\aleks\\anaconda3\\envs\\econml-dowhy-py38\\lib\\site-packages\\sklearn\\linear_model\\_base.py:133: FutureWarning: The default of 'normalize' will be set to False in version 1.2 and deprecated in version 1.4.\n",
      "If you wish to scale the data, use Pipeline with a StandardScaler in a preprocessing stage. To reproduce the previous behavior:\n",
      "\n",
      "from sklearn.pipeline import make_pipeline\n",
      "\n",
      "model = make_pipeline(StandardScaler(with_mean=False), LassoLarsIC())\n",
      "\n",
      "If you wish to pass a sample_weight parameter, you need to pass it as a fit parameter to each step of the pipeline as follows:\n",
      "\n",
      "kwargs = {s[0] + '__sample_weight': sample_weight for s in model.steps}\n",
      "model.fit(X, y, **kwargs)\n",
      "\n",
      "Set parameter alpha to: original_alpha * np.sqrt(n_samples). \n",
      "  warnings.warn(\n",
      "C:\\Users\\aleks\\anaconda3\\envs\\econml-dowhy-py38\\lib\\site-packages\\sklearn\\linear_model\\_base.py:133: FutureWarning: The default of 'normalize' will be set to False in version 1.2 and deprecated in version 1.4.\n",
      "If you wish to scale the data, use Pipeline with a StandardScaler in a preprocessing stage. To reproduce the previous behavior:\n",
      "\n",
      "from sklearn.pipeline import make_pipeline\n",
      "\n",
      "model = make_pipeline(StandardScaler(with_mean=False), LassoLarsIC())\n",
      "\n",
      "If you wish to pass a sample_weight parameter, you need to pass it as a fit parameter to each step of the pipeline as follows:\n",
      "\n",
      "kwargs = {s[0] + '__sample_weight': sample_weight for s in model.steps}\n",
      "model.fit(X, y, **kwargs)\n",
      "\n",
      "Set parameter alpha to: original_alpha * np.sqrt(n_samples). \n",
      "  warnings.warn(\n"
     ]
    },
    {
     "name": "stdout",
     "output_type": "stream",
     "text": [
      "\n",
      "Learning ica_lingam...\n",
      "\n"
     ]
    },
    {
     "name": "stderr",
     "output_type": "stream",
     "text": [
      "C:\\Users\\aleks\\anaconda3\\envs\\econml-dowhy-py38\\lib\\site-packages\\sklearn\\decomposition\\_fastica.py:116: ConvergenceWarning: FastICA did not converge. Consider increasing tolerance or the maximum number of iterations.\n",
      "  warnings.warn(\n",
      "C:\\Users\\aleks\\anaconda3\\envs\\econml-dowhy-py38\\lib\\site-packages\\sklearn\\linear_model\\_base.py:133: FutureWarning: The default of 'normalize' will be set to False in version 1.2 and deprecated in version 1.4.\n",
      "If you wish to scale the data, use Pipeline with a StandardScaler in a preprocessing stage. To reproduce the previous behavior:\n",
      "\n",
      "from sklearn.pipeline import make_pipeline\n",
      "\n",
      "model = make_pipeline(StandardScaler(with_mean=False), LassoLarsIC())\n",
      "\n",
      "If you wish to pass a sample_weight parameter, you need to pass it as a fit parameter to each step of the pipeline as follows:\n",
      "\n",
      "kwargs = {s[0] + '__sample_weight': sample_weight for s in model.steps}\n",
      "model.fit(X, y, **kwargs)\n",
      "\n",
      "Set parameter alpha to: original_alpha * np.sqrt(n_samples). \n",
      "  warnings.warn(\n",
      "C:\\Users\\aleks\\anaconda3\\envs\\econml-dowhy-py38\\lib\\site-packages\\sklearn\\linear_model\\_base.py:133: FutureWarning: The default of 'normalize' will be set to False in version 1.2 and deprecated in version 1.4.\n",
      "If you wish to scale the data, use Pipeline with a StandardScaler in a preprocessing stage. To reproduce the previous behavior:\n",
      "\n",
      "from sklearn.pipeline import make_pipeline\n",
      "\n",
      "model = make_pipeline(StandardScaler(with_mean=False), LassoLarsIC())\n",
      "\n",
      "If you wish to pass a sample_weight parameter, you need to pass it as a fit parameter to each step of the pipeline as follows:\n",
      "\n",
      "kwargs = {s[0] + '__sample_weight': sample_weight for s in model.steps}\n",
      "model.fit(X, y, **kwargs)\n",
      "\n",
      "Set parameter alpha to: original_alpha * np.sqrt(n_samples). \n",
      "  warnings.warn(\n",
      "C:\\Users\\aleks\\anaconda3\\envs\\econml-dowhy-py38\\lib\\site-packages\\sklearn\\linear_model\\_base.py:133: FutureWarning: The default of 'normalize' will be set to False in version 1.2 and deprecated in version 1.4.\n",
      "If you wish to scale the data, use Pipeline with a StandardScaler in a preprocessing stage. To reproduce the previous behavior:\n",
      "\n",
      "from sklearn.pipeline import make_pipeline\n",
      "\n",
      "model = make_pipeline(StandardScaler(with_mean=False), LassoLarsIC())\n",
      "\n",
      "If you wish to pass a sample_weight parameter, you need to pass it as a fit parameter to each step of the pipeline as follows:\n",
      "\n",
      "kwargs = {s[0] + '__sample_weight': sample_weight for s in model.steps}\n",
      "model.fit(X, y, **kwargs)\n",
      "\n",
      "Set parameter alpha to: original_alpha * np.sqrt(n_samples). \n",
      "  warnings.warn(\n",
      "C:\\Users\\aleks\\anaconda3\\envs\\econml-dowhy-py38\\lib\\site-packages\\sklearn\\linear_model\\_base.py:133: FutureWarning: The default of 'normalize' will be set to False in version 1.2 and deprecated in version 1.4.\n",
      "If you wish to scale the data, use Pipeline with a StandardScaler in a preprocessing stage. To reproduce the previous behavior:\n",
      "\n",
      "from sklearn.pipeline import make_pipeline\n",
      "\n",
      "model = make_pipeline(StandardScaler(with_mean=False), LassoLarsIC())\n",
      "\n",
      "If you wish to pass a sample_weight parameter, you need to pass it as a fit parameter to each step of the pipeline as follows:\n",
      "\n",
      "kwargs = {s[0] + '__sample_weight': sample_weight for s in model.steps}\n",
      "model.fit(X, y, **kwargs)\n",
      "\n",
      "Set parameter alpha to: original_alpha * np.sqrt(n_samples). \n",
      "  warnings.warn(\n",
      "C:\\Users\\aleks\\anaconda3\\envs\\econml-dowhy-py38\\lib\\site-packages\\sklearn\\linear_model\\_base.py:133: FutureWarning: The default of 'normalize' will be set to False in version 1.2 and deprecated in version 1.4.\n",
      "If you wish to scale the data, use Pipeline with a StandardScaler in a preprocessing stage. To reproduce the previous behavior:\n",
      "\n",
      "from sklearn.pipeline import make_pipeline\n",
      "\n",
      "model = make_pipeline(StandardScaler(with_mean=False), LassoLarsIC())\n",
      "\n",
      "If you wish to pass a sample_weight parameter, you need to pass it as a fit parameter to each step of the pipeline as follows:\n",
      "\n",
      "kwargs = {s[0] + '__sample_weight': sample_weight for s in model.steps}\n",
      "model.fit(X, y, **kwargs)\n",
      "\n",
      "Set parameter alpha to: original_alpha * np.sqrt(n_samples). \n",
      "  warnings.warn(\n",
      "C:\\Users\\aleks\\anaconda3\\envs\\econml-dowhy-py38\\lib\\site-packages\\sklearn\\linear_model\\_base.py:133: FutureWarning: The default of 'normalize' will be set to False in version 1.2 and deprecated in version 1.4.\n",
      "If you wish to scale the data, use Pipeline with a StandardScaler in a preprocessing stage. To reproduce the previous behavior:\n",
      "\n",
      "from sklearn.pipeline import make_pipeline\n",
      "\n",
      "model = make_pipeline(StandardScaler(with_mean=False), LassoLarsIC())\n",
      "\n",
      "If you wish to pass a sample_weight parameter, you need to pass it as a fit parameter to each step of the pipeline as follows:\n",
      "\n",
      "kwargs = {s[0] + '__sample_weight': sample_weight for s in model.steps}\n",
      "model.fit(X, y, **kwargs)\n",
      "\n",
      "Set parameter alpha to: original_alpha * np.sqrt(n_samples). \n",
      "  warnings.warn(\n",
      "C:\\Users\\aleks\\anaconda3\\envs\\econml-dowhy-py38\\lib\\site-packages\\sklearn\\linear_model\\_base.py:133: FutureWarning: The default of 'normalize' will be set to False in version 1.2 and deprecated in version 1.4.\n",
      "If you wish to scale the data, use Pipeline with a StandardScaler in a preprocessing stage. To reproduce the previous behavior:\n",
      "\n",
      "from sklearn.pipeline import make_pipeline\n",
      "\n",
      "model = make_pipeline(StandardScaler(with_mean=False), LassoLarsIC())\n",
      "\n",
      "If you wish to pass a sample_weight parameter, you need to pass it as a fit parameter to each step of the pipeline as follows:\n",
      "\n",
      "kwargs = {s[0] + '__sample_weight': sample_weight for s in model.steps}\n",
      "model.fit(X, y, **kwargs)\n",
      "\n",
      "Set parameter alpha to: original_alpha * np.sqrt(n_samples). \n",
      "  warnings.warn(\n",
      "C:\\Users\\aleks\\anaconda3\\envs\\econml-dowhy-py38\\lib\\site-packages\\sklearn\\linear_model\\_base.py:133: FutureWarning: The default of 'normalize' will be set to False in version 1.2 and deprecated in version 1.4.\n",
      "If you wish to scale the data, use Pipeline with a StandardScaler in a preprocessing stage. To reproduce the previous behavior:\n",
      "\n",
      "from sklearn.pipeline import make_pipeline\n",
      "\n",
      "model = make_pipeline(StandardScaler(with_mean=False), LassoLarsIC())\n",
      "\n",
      "If you wish to pass a sample_weight parameter, you need to pass it as a fit parameter to each step of the pipeline as follows:\n",
      "\n",
      "kwargs = {s[0] + '__sample_weight': sample_weight for s in model.steps}\n",
      "model.fit(X, y, **kwargs)\n",
      "\n",
      "Set parameter alpha to: original_alpha * np.sqrt(n_samples). \n",
      "  warnings.warn(\n",
      "C:\\Users\\aleks\\anaconda3\\envs\\econml-dowhy-py38\\lib\\site-packages\\sklearn\\linear_model\\_base.py:133: FutureWarning: The default of 'normalize' will be set to False in version 1.2 and deprecated in version 1.4.\n",
      "If you wish to scale the data, use Pipeline with a StandardScaler in a preprocessing stage. To reproduce the previous behavior:\n",
      "\n",
      "from sklearn.pipeline import make_pipeline\n",
      "\n",
      "model = make_pipeline(StandardScaler(with_mean=False), LassoLarsIC())\n",
      "\n",
      "If you wish to pass a sample_weight parameter, you need to pass it as a fit parameter to each step of the pipeline as follows:\n",
      "\n",
      "kwargs = {s[0] + '__sample_weight': sample_weight for s in model.steps}\n",
      "model.fit(X, y, **kwargs)\n",
      "\n",
      "Set parameter alpha to: original_alpha * np.sqrt(n_samples). \n",
      "  warnings.warn(\n",
      "[2022-01-08 18:48:44,138][linear.py - line 192] - INFO - [start]: n=2000, d=10, iter_=100, h_=1e-08, rho_=1e+16\n"
     ]
    },
    {
     "name": "stdout",
     "output_type": "stream",
     "text": [
      "\n",
      "Learning notears...\n",
      "\n"
     ]
    },
    {
     "name": "stderr",
     "output_type": "stream",
     "text": [
      "[2022-01-08 18:48:44,488][linear.py - line 203] - INFO - [iter 0] h=5.138e-01, loss=1243.354, rho=1.0e+00\n",
      "[2022-01-08 18:48:45,926][linear.py - line 203] - INFO - [iter 1] h=3.726e-01, loss=6.841, rho=1.0e+00\n",
      "[2022-01-08 18:48:46,098][linear.py - line 203] - INFO - [iter 1] h=1.862e-01, loss=8.029, rho=1.0e+01\n",
      "[2022-01-08 18:48:46,562][linear.py - line 203] - INFO - [iter 1] h=5.076e-02, loss=19.907, rho=1.0e+02\n",
      "[2022-01-08 18:48:47,582][linear.py - line 203] - INFO - [iter 2] h=3.482e-02, loss=7.134, rho=1.0e+02\n",
      "[2022-01-08 18:48:48,815][linear.py - line 203] - INFO - [iter 2] h=1.295e-02, loss=8.294, rho=1.0e+03\n",
      "[2022-01-08 18:48:50,150][linear.py - line 203] - INFO - [iter 2] h=4.137e-03, loss=19.889, rho=1.0e+04\n",
      "[2022-01-08 18:48:50,802][linear.py - line 203] - INFO - [iter 3] h=2.521e-03, loss=7.434, rho=1.0e+04\n",
      "[2022-01-08 18:48:50,934][linear.py - line 203] - INFO - [iter 3] h=1.076e-03, loss=8.204, rho=1.0e+05\n",
      "[2022-01-08 18:48:53,135][linear.py - line 203] - INFO - [iter 3] h=2.672e-04, loss=15.904, rho=1.0e+06\n",
      "[2022-01-08 18:48:53,207][linear.py - line 203] - INFO - [iter 4] h=1.433e-04, loss=7.671, rho=1.0e+06\n",
      "[2022-01-08 18:48:56,399][linear.py - line 203] - INFO - [iter 4] h=3.665e-05, loss=7.992, rho=1.0e+07\n",
      "[2022-01-08 18:48:58,316][linear.py - line 203] - INFO - [iter 5] h=2.218e-05, loss=7.675, rho=1.0e+07\n",
      "[2022-01-08 18:48:58,909][linear.py - line 203] - INFO - [iter 5] h=9.749e-06, loss=7.735, rho=1.0e+08\n",
      "[2022-01-08 18:49:01,284][linear.py - line 203] - INFO - [iter 5] h=2.512e-06, loss=8.340, rho=1.0e+09\n",
      "[2022-01-08 18:49:01,512][linear.py - line 203] - INFO - [iter 6] h=1.487e-06, loss=7.694, rho=1.0e+09\n",
      "[2022-01-08 18:49:01,624][linear.py - line 203] - INFO - [iter 6] h=6.014e-07, loss=7.723, rho=1.0e+10\n",
      "[2022-01-08 18:49:02,957][linear.py - line 203] - INFO - [iter 7] h=3.052e-07, loss=7.700, rho=1.0e+10\n",
      "[2022-01-08 18:49:03,317][linear.py - line 203] - INFO - [iter 7] h=1.330e-07, loss=7.716, rho=1.0e+11\n",
      "[2022-01-08 18:49:03,445][linear.py - line 203] - INFO - [iter 8] h=7.820e-08, loss=7.703, rho=1.0e+11\n",
      "[2022-01-08 18:49:04,042][linear.py - line 203] - INFO - [iter 8] h=2.724e-08, loss=7.711, rho=1.0e+12\n",
      "[2022-01-08 18:49:04,452][linear.py - line 203] - INFO - [iter 9] h=1.583e-08, loss=7.703, rho=1.0e+12\n",
      "[2022-01-08 18:49:04,650][linear.py - line 203] - INFO - [iter 9] h=5.613e-09, loss=7.707, rho=1.0e+13\n",
      "[2022-01-08 18:49:04,654][linear.py - line 219] - INFO - FINISHED\n",
      "[2022-01-08 18:49:04,780][golem.py - line 204] - INFO - Started training for 100000 iterations.\n"
     ]
    },
    {
     "name": "stdout",
     "output_type": "stream",
     "text": [
      "\n",
      "Learning golem...\n",
      "\n"
     ]
    },
    {
     "name": "stderr",
     "output_type": "stream",
     "text": [
      "[2022-01-08 18:49:08,461][golem.py - line 217] - INFO - [Iter 0] score=77.098, likelihood=77.098, h=0.0e+00\n",
      "[2022-01-08 18:50:12,460][golem.py - line 217] - INFO - [Iter 5000] score=50.410, likelihood=49.801, h=1.1e-03\n",
      "[2022-01-08 18:51:16,453][golem.py - line 217] - INFO - [Iter 10000] score=50.112, likelihood=49.573, h=1.1e-04\n",
      "[2022-01-08 18:52:23,330][golem.py - line 217] - INFO - [Iter 15000] score=50.112, likelihood=49.573, h=1.0e-04\n",
      "[2022-01-08 18:53:30,027][golem.py - line 217] - INFO - [Iter 20000] score=50.112, likelihood=49.573, h=1.1e-04\n",
      "[2022-01-08 18:54:35,750][golem.py - line 217] - INFO - [Iter 25000] score=50.112, likelihood=49.573, h=1.1e-04\n",
      "[2022-01-08 18:55:20,716][golem.py - line 217] - INFO - [Iter 30000] score=50.112, likelihood=49.573, h=1.1e-04\n",
      "[2022-01-08 18:56:06,641][golem.py - line 217] - INFO - [Iter 35000] score=50.112, likelihood=49.573, h=1.1e-04\n",
      "[2022-01-08 18:56:50,839][golem.py - line 217] - INFO - [Iter 40000] score=50.112, likelihood=49.573, h=1.1e-04\n",
      "[2022-01-08 18:57:35,484][golem.py - line 217] - INFO - [Iter 45000] score=50.112, likelihood=49.573, h=1.2e-04\n",
      "[2022-01-08 18:58:14,662][golem.py - line 217] - INFO - [Iter 50000] score=50.112, likelihood=49.573, h=1.1e-04\n",
      "[2022-01-08 18:58:51,619][golem.py - line 217] - INFO - [Iter 55000] score=50.112, likelihood=49.573, h=1.1e-04\n",
      "[2022-01-08 18:59:30,401][golem.py - line 217] - INFO - [Iter 60000] score=50.112, likelihood=49.573, h=1.1e-04\n",
      "[2022-01-08 19:00:09,380][golem.py - line 217] - INFO - [Iter 65000] score=50.112, likelihood=49.573, h=1.1e-04\n",
      "[2022-01-08 19:00:46,134][golem.py - line 217] - INFO - [Iter 70000] score=50.112, likelihood=49.573, h=1.2e-04\n",
      "[2022-01-08 19:01:23,629][golem.py - line 217] - INFO - [Iter 75000] score=50.112, likelihood=49.573, h=1.1e-04\n",
      "[2022-01-08 19:02:02,145][golem.py - line 217] - INFO - [Iter 80000] score=50.112, likelihood=49.573, h=1.1e-04\n",
      "[2022-01-08 19:02:39,940][golem.py - line 217] - INFO - [Iter 85000] score=50.112, likelihood=49.573, h=1.1e-04\n",
      "[2022-01-08 19:03:18,722][golem.py - line 217] - INFO - [Iter 90000] score=50.112, likelihood=49.573, h=1.2e-04\n",
      "[2022-01-08 19:03:59,276][golem.py - line 217] - INFO - [Iter 95000] score=50.112, likelihood=49.573, h=1.1e-04\n",
      "[2022-01-08 19:04:38,835][golem.py - line 217] - INFO - [Iter 100000] score=50.112, likelihood=49.573, h=1.1e-04\n",
      "[2022-01-08 19:04:38,859][nonlinear.py - line 231] - INFO - [start]: n=2000, d=10, iter_=100, h_=1e-08, rho_=1e+16\n"
     ]
    },
    {
     "name": "stdout",
     "output_type": "stream",
     "text": [
      "\n",
      "Learning notears_non_lin...\n",
      "\n"
     ]
    },
    {
     "name": "stderr",
     "output_type": "stream",
     "text": [
      "[2022-01-08 19:11:24,823][nonlinear.py - line 243] - INFO - FINISHED\n",
      "[2022-01-08 19:11:24,904][corl.py - line 233] - INFO - Python version is 3.8.12\n",
      "[2022-01-08 19:11:24,911][corl.py - line 277] - INFO - Shape of input batch: 64, 10, 64\n",
      "[2022-01-08 19:11:24,912][corl.py - line 279] - INFO - Shape of input batch: 64, 10, 64\n",
      "[2022-01-08 19:11:24,912][corl.py - line 281] - INFO - Starting training.\n"
     ]
    },
    {
     "name": "stdout",
     "output_type": "stream",
     "text": [
      "\n",
      "Learning corl...\n",
      "\n"
     ]
    },
    {
     "name": "stderr",
     "output_type": "stream",
     "text": [
      "  0%|                                                                                         | 0/2000 [00:00<?, ?it/s]C:\\Users\\aleks\\anaconda3\\envs\\econml-dowhy-py38\\lib\\site-packages\\castle\\algorithms\\gradient\\corl\\torch\\corl.py:334: UserWarning: Creating a tensor from a list of numpy.ndarrays is extremely slow. Please consider converting the list to a single numpy.ndarray with numpy.array() before converting to a tensor. (Triggered internally at  ..\\torch\\csrc\\utils\\tensor_new.cpp:201.)\n",
      "  td_target=torch.tensor(td_target),\n",
      "[2022-01-08 19:11:26,262][corl.py - line 371] - INFO - [iter 1] max_reward: -2.312, max_reward_batch: -2.312\n",
      "[2022-01-08 19:11:26,262][corl.py - line 377] - INFO - [iter 1] score_min 2.312\n",
      " 10%|███████▊                                                                       | 199/2000 [00:50<07:15,  4.14it/s][2022-01-08 19:12:15,335][corl.py - line 371] - INFO - [iter 200] max_reward: -2.312, max_reward_batch: -2.312\n",
      "[2022-01-08 19:12:15,351][corl.py - line 377] - INFO - [iter 200] score_min 2.312\n",
      " 20%|███████████████▊                                                               | 399/2000 [01:38<06:22,  4.18it/s][2022-01-08 19:13:04,136][corl.py - line 371] - INFO - [iter 400] max_reward: -2.312, max_reward_batch: -2.312\n",
      "[2022-01-08 19:13:04,168][corl.py - line 377] - INFO - [iter 400] score_min 2.312\n",
      " 30%|███████████████████████▋                                                       | 599/2000 [02:28<05:46,  4.04it/s][2022-01-08 19:13:54,139][corl.py - line 371] - INFO - [iter 600] max_reward: -2.312, max_reward_batch: -2.312\n",
      "[2022-01-08 19:13:54,200][corl.py - line 377] - INFO - [iter 600] score_min 2.312\n",
      " 40%|███████████████████████████████▌                                               | 799/2000 [03:15<04:38,  4.31it/s][2022-01-08 19:14:40,899][corl.py - line 371] - INFO - [iter 800] max_reward: -2.312, max_reward_batch: -2.312\n",
      "[2022-01-08 19:14:40,968][corl.py - line 377] - INFO - [iter 800] score_min 2.312\n",
      " 50%|███████████████████████████████████████▍                                       | 999/2000 [04:00<03:34,  4.66it/s][2022-01-08 19:15:25,703][corl.py - line 371] - INFO - [iter 1000] max_reward: -2.312, max_reward_batch: -2.312\n",
      "[2022-01-08 19:15:25,786][corl.py - line 377] - INFO - [iter 1000] score_min 2.312\n",
      " 60%|██████████████████████████████████████████████▊                               | 1199/2000 [04:42<02:33,  5.20it/s][2022-01-08 19:16:07,325][corl.py - line 371] - INFO - [iter 1200] max_reward: -2.312, max_reward_batch: -2.312\n",
      "[2022-01-08 19:16:07,414][corl.py - line 377] - INFO - [iter 1200] score_min 2.312\n",
      " 70%|██████████████████████████████████████████████████████▌                       | 1399/2000 [05:19<01:46,  5.63it/s][2022-01-08 19:16:44,470][corl.py - line 371] - INFO - [iter 1400] max_reward: -2.312, max_reward_batch: -2.312\n",
      "[2022-01-08 19:16:44,564][corl.py - line 377] - INFO - [iter 1400] score_min 2.312\n",
      " 80%|██████████████████████████████████████████████████████████████▎               | 1599/2000 [05:54<01:08,  5.84it/s][2022-01-08 19:17:19,744][corl.py - line 371] - INFO - [iter 1600] max_reward: -2.312, max_reward_batch: -2.312\n",
      "[2022-01-08 19:17:19,852][corl.py - line 377] - INFO - [iter 1600] score_min 2.312\n",
      " 90%|██████████████████████████████████████████████████████████████████████▏       | 1799/2000 [06:28<00:33,  6.00it/s][2022-01-08 19:17:53,854][corl.py - line 371] - INFO - [iter 1800] max_reward: -2.312, max_reward_batch: -2.312\n",
      "[2022-01-08 19:17:53,971][corl.py - line 377] - INFO - [iter 1800] score_min 2.312\n",
      "100%|█████████████████████████████████████████████████████████████████████████████▉| 1999/2000 [07:00<00:00,  6.38it/s][2022-01-08 19:18:25,458][corl.py - line 371] - INFO - [iter 2000] max_reward: -2.312, max_reward_batch: -2.312\n",
      "[2022-01-08 19:18:25,571][corl.py - line 377] - INFO - [iter 2000] score_min 2.312\n",
      "100%|██████████████████████████████████████████████████████████████████████████████| 2000/2000 [07:00<00:00,  4.75it/s]\n"
     ]
    }
   ],
   "source": [
    "# Structure learning\n",
    "methods = {\n",
    "    'pc': PC(),\n",
    "    \n",
    "    'direct_lingam': DirectLiNGAM(),\n",
    "    \n",
    "    'ica_lingam': ICALiNGAM(),\n",
    "    \n",
    "    'notears': Notears(),\n",
    "    \n",
    "    'golem': GOLEM(device_type='gpu'),\n",
    "    \n",
    "    'notears_non_lin': NotearsNonlinear(device_type='gpu'),\n",
    "    \n",
    "    'corl': CORL(\n",
    "        encoder_name='transformer',\n",
    "        decoder_name='lstm',\n",
    "        reward_mode='episodic',\n",
    "        reward_regression_type='LR',\n",
    "        batch_size=64,\n",
    "        input_dim=64,\n",
    "        embed_dim=64,\n",
    "        iteration=2000,\n",
    "        device_type='gpu')\n",
    "}\n",
    "\n",
    "for method in methods:\n",
    "    print(f'\\nLearning {method}...\\n')\n",
    "    methods[method].learn(X)"
   ]
  },
  {
   "cell_type": "code",
   "execution_count": 7,
   "id": "a134b00c",
   "metadata": {
    "scrolled": false
   },
   "outputs": [
    {
     "name": "stdout",
     "output_type": "stream",
     "text": [
      "\n",
      "Results for pc\n",
      "\n"
     ]
    },
    {
     "data": {
      "image/png": "[encoded data removed]",
      "text/plain": [
       "<Figure size 576x216 with 4 Axes>"
      ]
     },
     "metadata": {
      "needs_background": "light"
     },
     "output_type": "display_data"
    },
    {
     "name": "stdout",
     "output_type": "stream",
     "text": [
      "{'fdr': 0.2, 'tpr': 0.8, 'fpr': 0.0571, 'shd': 3, 'nnz': 10, 'precision': 0.6667, 'recall': 0.8, 'F1': 0.7273, 'gscore': 0.4}\n",
      "\n",
      "Results for direct_lingam\n",
      "\n"
     ]
    },
    {
     "data": {
      "image/png": "[encoded data removed]",
      "text/plain": [
       "<Figure size 576x216 with 4 Axes>"
      ]
     },
     "metadata": {
      "needs_background": "light"
     },
     "output_type": "display_data"
    },
    {
     "name": "stdout",
     "output_type": "stream",
     "text": [
      "{'fdr': 0.5556, 'tpr': 0.4, 'fpr': 0.1429, 'shd': 10, 'nnz': 9, 'precision': 0.4444, 'recall': 0.4, 'F1': 0.4211, 'gscore': 0.0}\n",
      "\n",
      "Results for ica_lingam\n",
      "\n"
     ]
    },
    {
     "data": {
      "image/png": "[encoded data removed]",
      "text/plain": [
       "<Figure size 576x216 with 4 Axes>"
      ]
     },
     "metadata": {
      "needs_background": "light"
     },
     "output_type": "display_data"
    },
    {
     "name": "stdout",
     "output_type": "stream",
     "text": [
      "{'fdr': 0.4, 'tpr': 0.6, 'fpr': 0.1143, 'shd': 5, 'nnz': 10, 'precision': 0.6, 'recall': 0.6, 'F1': 0.6, 'gscore': 0.2}\n",
      "\n",
      "Results for notears\n",
      "\n"
     ]
    },
    {
     "data": {
      "image/png": "[encoded data removed]",
      "text/plain": [
       "<Figure size 576x216 with 4 Axes>"
      ]
     },
     "metadata": {
      "needs_background": "light"
     },
     "output_type": "display_data"
    },
    {
     "name": "stdout",
     "output_type": "stream",
     "text": [
      "{'fdr': 0.0, 'tpr': 0.9, 'fpr': 0.0, 'shd': 1, 'nnz': 9, 'precision': 1.0, 'recall': 0.9, 'F1': 0.9474, 'gscore': 0.9}\n",
      "\n",
      "Results for golem\n",
      "\n"
     ]
    },
    {
     "data": {
      "image/png": "[encoded data removed]",
      "text/plain": [
       "<Figure size 576x216 with 4 Axes>"
      ]
     },
     "metadata": {
      "needs_background": "light"
     },
     "output_type": "display_data"
    },
    {
     "name": "stdout",
     "output_type": "stream",
     "text": [
      "{'fdr': 0.0, 'tpr': 0.9, 'fpr': 0.0, 'shd': 1, 'nnz': 9, 'precision': 1.0, 'recall': 0.9, 'F1': 0.9474, 'gscore': 0.9}\n",
      "\n",
      "Results for notears_non_lin\n",
      "\n"
     ]
    },
    {
     "data": {
      "image/png": "[encoded data removed]",
      "text/plain": [
       "<Figure size 576x216 with 4 Axes>"
      ]
     },
     "metadata": {
      "needs_background": "light"
     },
     "output_type": "display_data"
    },
    {
     "name": "stdout",
     "output_type": "stream",
     "text": [
      "{'fdr': 0.0, 'tpr': 0.9, 'fpr': 0.0, 'shd': 1, 'nnz': 9, 'precision': 1.0, 'recall': 0.9, 'F1': 0.9474, 'gscore': 0.9}\n",
      "\n",
      "Results for corl\n",
      "\n"
     ]
    },
    {
     "data": {
      "image/png": "[encoded data removed]",
      "text/plain": [
       "<Figure size 576x216 with 4 Axes>"
      ]
     },
     "metadata": {
      "needs_background": "light"
     },
     "output_type": "display_data"
    },
    {
     "name": "stdout",
     "output_type": "stream",
     "text": [
      "{'fdr': 0.0, 'tpr': 0.9, 'fpr': 0.0, 'shd': 1, 'nnz': 9, 'precision': 1.0, 'recall': 0.9, 'F1': 0.9474, 'gscore': 0.9}\n"
     ]
    }
   ],
   "source": [
    "for method in methods:\n",
    "    print(f'\\nResults for {method}\\n')\n",
    "    GraphDAG(methods[method].causal_matrix, true_causal_matrix, 'result')\n",
    "    mt = MetricsDAG(methods[method].causal_matrix, true_causal_matrix)\n",
    "    print(mt.metrics)"
   ]
  }
 ],
 "metadata": {
  "kernelspec": {
   "display_name": "Python [conda env:econml-dowhy-py38]",
   "language": "python",
   "name": "conda-env-econml-dowhy-py38-py"
  },
  "language_info": {
   "codemirror_mode": {
    "name": "ipython",
    "version": 3
   },
   "file_extension": ".py",
   "mimetype": "text/x-python",
   "name": "python",
   "nbconvert_exporter": "python",
   "pygments_lexer": "ipython3",
   "version": "3.8.12"
  }
 },
 "nbformat": 4,
 "nbformat_minor": 5
}
