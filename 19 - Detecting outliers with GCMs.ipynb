{
 "cells": [
  {
   "cell_type": "code",
   "execution_count": 1,
   "id": "70efc90b",
   "metadata": {},
   "outputs": [
    {
     "name": "stderr",
     "output_type": "stream",
     "text": [
      "C:\\Users\\aleks\\anaconda3\\envs\\causal_book_py38_dw09\\lib\\site-packages\\tqdm\\auto.py:22: TqdmWarning: IProgress not found. Please update jupyter and ipywidgets. See https://ipywidgets.readthedocs.io/en/stable/user_install.html\n",
      "  from .autonotebook import tqdm as notebook_tqdm\n"
     ]
    }
   ],
   "source": [
    "import numpy as np\n",
    "import pandas as pd\n",
    "import networkx as nx\n",
    "\n",
    "import dowhy\n",
    "from dowhy import gcm\n",
    "\n",
    "import matplotlib.pyplot as plt"
   ]
  },
  {
   "cell_type": "code",
   "execution_count": 2,
   "id": "8672d2ab",
   "metadata": {},
   "outputs": [
    {
     "data": {
      "text/plain": [
       "'0.9'"
      ]
     },
     "execution_count": 2,
     "metadata": {},
     "output_type": "execute_result"
    }
   ],
   "source": [
    "dowhy.__version__"
   ]
  },
  {
   "cell_type": "markdown",
   "id": "624933fd",
   "metadata": {},
   "source": [
    "# Encoding expert knowledge in causal discovery\n",
    "\n",
    "A part of [CausalPython](https://causalpython.io) series on causality.\n",
    "\n",
    "<a href=\"https://causalpython.io\"><img src=\"img/CausalPython.io__flat.png\" width=150 align=\"left\"></a>\n",
    "<br>"
   ]
  },
  {
   "cell_type": "markdown",
   "id": "8bbc3de9",
   "metadata": {},
   "source": [
    "**NOTE**: You'll need `dowhy` version >= `0.9` to run this notebook.\n",
    "\n",
    "You can build a relevant enviormemnt by:\n",
    "\n",
    "`conda env create -f causal_book_py38_dw09.yml`"
   ]
  },
  {
   "cell_type": "markdown",
   "id": "b0ba361e",
   "metadata": {},
   "source": [
    "## Data"
   ]
  },
  {
   "cell_type": "code",
   "execution_count": 3,
   "id": "5d01ad32",
   "metadata": {},
   "outputs": [],
   "source": [
    "# Generate the data\n",
    "N = 1000\n",
    "\n",
    "x = np.random.normal(loc=0, scale=1, size=N)\n",
    "w = np.random.normal(loc=0, scale=1, size=N)\n",
    "y = 2 * x + 1.7 * w + np.random.normal(loc=0, scale=1, size=N)\n",
    "z = 3 * y + 0.4 * w + np.random.normal(loc=0, scale=1, size=N)\n",
    "\n",
    "# To dataframe\n",
    "data = pd.DataFrame(\n",
    "    dict(X=x, Y=y, Z=z, W=w)\n",
    ")"
   ]
  },
  {
   "cell_type": "code",
   "execution_count": 8,
   "id": "327e7d46",
   "metadata": {},
   "outputs": [
    {
     "data": {
      "image/png": "[encoded data removed]",
      "text/plain": [
       "<Figure size 600x300 with 1 Axes>"
      ]
     },
     "metadata": {},
     "output_type": "display_data"
    }
   ],
   "source": [
    "# Encode the graph\n",
    "graph = nx.DiGraph(\n",
    "    [\n",
    "        ('X', 'Y'),\n",
    "        ('W', 'Y'),\n",
    "        ('Y', 'Z'),\n",
    "        ('W', 'Z')\n",
    "    ]\n",
    ")\n",
    "\n",
    "# Plot the graph\n",
    "plt.figure(figsize=(6, 3))\n",
    "nx.draw(\n",
    "    G=graph,\n",
    "    node_size=800,\n",
    "    arrowsize=17,\n",
    "    with_labels=True,\n",
    "    font_color='white',\n",
    "    font_size=16,\n",
    "    pos=nx.circular_layout(graph)\n",
    ")"
   ]
  },
  {
   "cell_type": "markdown",
   "id": "350682f5",
   "metadata": {},
   "source": [
    "## Model"
   ]
  },
  {
   "cell_type": "code",
   "execution_count": 10,
   "id": "fde446ba",
   "metadata": {},
   "outputs": [
    {
     "name": "stderr",
     "output_type": "stream",
     "text": [
      "Fitting causal mechanism of node Z: 100%|████████████████████████████████████████████████| 4/4 [00:01<00:00,  3.40it/s]\n"
     ]
    }
   ],
   "source": [
    "# Model the system\n",
    "causal_model = gcm.StructuralCausalModel(graph=graph)\n",
    "\n",
    "# Assign mechanisms\n",
    "gcm.auto.assign_causal_mechanisms(causal_model, data)\n",
    "\n",
    "# Fit the model to the data\n",
    "gcm.fit(causal_model, data)"
   ]
  },
  {
   "cell_type": "code",
   "execution_count": 20,
   "id": "4ced09ed",
   "metadata": {},
   "outputs": [],
   "source": [
    "# Generate the anomaly\n",
    "anomaly = pd.DataFrame(\n",
    "    dict(X=[0.3], Y=[300.99], Z=[901.23], W=[1.2])\n",
    ")"
   ]
  },
  {
   "cell_type": "code",
   "execution_count": 21,
   "id": "a5f7c0d4",
   "metadata": {},
   "outputs": [
    {
     "name": "stderr",
     "output_type": "stream",
     "text": [
      "Evaluate set function: 16it [00:00, 32.70it/s]\n"
     ]
    }
   ],
   "source": [
    "# Which node caused an anomaly in Z?\n",
    "anomaly_attribution = gcm.attribute_anomalies(causal_model, 'Z', anomaly)"
   ]
  },
  {
   "cell_type": "code",
   "execution_count": 22,
   "id": "781338bd",
   "metadata": {},
   "outputs": [
    {
     "data": {
      "text/plain": [
       "{'X': array([-0.09155102]),\n",
       " 'W': array([-0.09155102]),\n",
       " 'Y': array([9.11888934]),\n",
       " 'Z': array([0.27465307])}"
      ]
     },
     "execution_count": 22,
     "metadata": {},
     "output_type": "execute_result"
    }
   ],
   "source": [
    "anomaly_attribution"
   ]
  },
  {
   "cell_type": "markdown",
   "id": "81980154",
   "metadata": {},
   "source": [
    "`Y` is most likely the root cause on anomaly in `Z`."
   ]
  }
 ],
 "metadata": {
  "kernelspec": {
   "display_name": "Python [conda env:causal_book_py38_dw09]",
   "language": "python",
   "name": "conda-env-causal_book_py38_dw09-py"
  },
  "language_info": {
   "codemirror_mode": {
    "name": "ipython",
    "version": 3
   },
   "file_extension": ".py",
   "mimetype": "text/x-python",
   "name": "python",
   "nbconvert_exporter": "python",
   "pygments_lexer": "ipython3",
   "version": "3.8.16"
  }
 },
 "nbformat": 4,
 "nbformat_minor": 5
}
