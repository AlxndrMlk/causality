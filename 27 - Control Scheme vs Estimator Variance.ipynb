{
  "nbformat": 4,
  "nbformat_minor": 0,
  "metadata": {
    "colab": {
      "provenance": []
    },
    "kernelspec": {
      "name": "python3",
      "display_name": "Python 3"
    },
    "language_info": {
      "name": "python"
    }
  },
  "cells": [
    {
      "cell_type": "code",
      "source": [
        "import numpy as np\n",
        "import pandas as pd\n",
        "\n",
        "import statsmodels.api as sm\n",
        "\n",
        "from tqdm import tqdm\n",
        "\n",
        "import matplotlib.pyplot as plt\n",
        "plt.style.use('fivethirtyeight')"
      ],
      "metadata": {
        "id": "WTrLsEbqJqnf"
      },
      "execution_count": 31,
      "outputs": []
    },
    {
      "cell_type": "code",
      "execution_count": 26,
      "metadata": {
        "id": "1eXEgq1U11Gc"
      },
      "outputs": [],
      "source": [
        "def run_experiment(controls, n=50000):\n",
        "  # np.random.seed(45)\n",
        "  N_SAMPLES = n\n",
        "\n",
        "  # Generate X\n",
        "  age = np.random.randint(18, 65, N_SAMPLES)\n",
        "  re74 = np.random.randint(20000, 60000, N_SAMPLES)\n",
        "  hisp = np.random.choice(a=[0,1], size=N_SAMPLES)\n",
        "  black = np.random.choice(a=[0,1], size=N_SAMPLES)\n",
        "\n",
        "  re75 = re74 + np.random.randn(N_SAMPLES)\n",
        "  married = ((1 / (1 + np.exp(- (3 - (age*0.05) - (re75*0.00002) + np.random.randn(N_SAMPLES)))))>0.5).astype(int)\n",
        "  educ = -hisp + np.random.randint(7, 14, N_SAMPLES)\n",
        "  nodegr = ((1 / (1 + np.exp(- (1 - (age*0.05) - (educ*0.02) + np.random.randn(N_SAMPLES)))))>0.5).astype(int)\n",
        "  treat = ((1/(1+np.exp(nodegr + np.random.randn(N_SAMPLES))))>0.5).astype(int)\n",
        "\n",
        "  # Compute Y\n",
        "  re78 = age - 5*nodegr + 8*treat + educ - 4*black + np.random.randn(N_SAMPLES)\n",
        "\n",
        "  data = pd.DataFrame({\n",
        "  \"treat\": treat,\n",
        "  \"age\" : age,\n",
        "  \"re74\" :re74,\n",
        "  \"hisp\" : hisp,\n",
        "  \"black\": black,\n",
        "  \"re75\": re75,\n",
        "  \"married\": married,\n",
        "  \"educ\": educ,\n",
        "  \"nodegr\": nodegr\n",
        "  })\n",
        "\n",
        "  # Statsmodel models require us to add constant\n",
        "  vars = controls#[\"treat\", \"nodegr\"]#, \"age\",\"educ\", \"black\"]\n",
        "  X = data[vars]\n",
        "  X = sm.add_constant(X)\n",
        "\n",
        "  # Instantiate the model and fit it\n",
        "  model = sm.OLS(re78, X)\n",
        "  fitted_model = model.fit()\n",
        "\n",
        "  # Print results summary\n",
        "  # print(fitted_model.summary())\n",
        "  return fitted_model.params['treat']"
      ]
    },
    {
      "cell_type": "code",
      "source": [
        "var_sets = {\n",
        "    'full': [\"treat\", \"nodegr\", \"age\",\"educ\", \"black\"],\n",
        "     'minimal': [\"treat\", \"nodegr\"]\n",
        "}\n",
        "\n",
        "results = []\n",
        "\n",
        "for i in tqdm(range(500)):\n",
        "  for k, v in var_sets.items():\n",
        "    result = run_experiment(controls=v, n=10000)\n",
        "    results.append((k, result))"
      ],
      "metadata": {
        "colab": {
          "base_uri": "https://localhost:8080/"
        },
        "id": "LpfRxCUI16Ix",
        "outputId": "f515be82-5ac1-4c76-9ba7-d97fe698e4ba"
      },
      "execution_count": 48,
      "outputs": [
        {
          "output_type": "stream",
          "name": "stderr",
          "text": [
            "100%|██████████| 500/500 [00:17<00:00, 28.59it/s]\n"
          ]
        }
      ]
    },
    {
      "cell_type": "code",
      "source": [
        "df = pd.DataFrame(results)"
      ],
      "metadata": {
        "id": "5ghcaPPtHqbJ"
      },
      "execution_count": 49,
      "outputs": []
    },
    {
      "cell_type": "code",
      "source": [
        "plt.hist(df[df[0]=='full'][1], alpha=.4, label='full', bins=10)\n",
        "plt.hist(df[df[0]=='minimal'][1], alpha=.4, label='minimal', bins=20)\n",
        "plt.axvline(8, ls='--', color='black', lw=1, label='true')\n",
        "plt.legend()"
      ],
      "metadata": {
        "colab": {
          "base_uri": "https://localhost:8080/",
          "height": 467
        },
        "id": "gxXgnvH7JP-7",
        "outputId": "8b6633bb-b618-4b1e-e37e-d26923f3e6cb"
      },
      "execution_count": 57,
      "outputs": [
        {
          "output_type": "execute_result",
          "data": {
            "text/plain": [
              "<matplotlib.legend.Legend at 0x7c8c909918a0>"
            ]
          },
          "metadata": {},
          "execution_count": 57
        },
        {
          "output_type": "display_data",
          "data": {
            "text/plain": [
              "<Figure size 640x480 with 1 Axes>"
            ],
            "image/png": "[encoded data removed]"
          },
          "metadata": {}
        }
      ]
    },
    {
      "cell_type": "code",
      "source": [],
      "metadata": {
        "id": "gJ7lxop7JnC9"
      },
      "execution_count": null,
      "outputs": []
    }
  ]
}