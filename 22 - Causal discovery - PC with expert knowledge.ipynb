{
 "cells": [
  {
   "cell_type": "code",
   "execution_count": 1,
   "id": "ca1ac6de",
   "metadata": {},
   "outputs": [
    {
     "name": "stderr",
     "output_type": "stream",
     "text": [
      "C:\\Users\\aleks\\anaconda3\\envs\\causal_book_py38_dw09\\lib\\site-packages\\tqdm\\auto.py:22: TqdmWarning: IProgress not found. Please update jupyter and ipywidgets. See https://ipywidgets.readthedocs.io/en/stable/user_install.html\n",
      "  from .autonotebook import tqdm as notebook_tqdm\n",
      "2023-05-30 18:59:14,058 - C:\\Users\\aleks\\anaconda3\\envs\\causal_book_py38_dw09\\lib\\site-packages\\castle\\algorithms\\__init__.py[line:36] - INFO: You are using ``pytorch`` as the backend.\n"
     ]
    }
   ],
   "source": [
    "import os\n",
    "os.environ['CASTLE_BACKEND'] = 'pytorch'\n",
    "\n",
    "import numpy as np\n",
    "import networkx as nx\n",
    "\n",
    "import castle\n",
    "\n",
    "from castle.common import GraphDAG\n",
    "from castle.metrics import MetricsDAG\n",
    "from castle.datasets import IIDSimulation, DAG\n",
    "from castle.algorithms import PC\n",
    "\n",
    "from castle.common.priori_knowledge import PrioriKnowledge\n",
    "\n",
    "import matplotlib.pyplot as plt"
   ]
  },
  {
   "cell_type": "code",
   "execution_count": 2,
   "id": "7dcbb484",
   "metadata": {},
   "outputs": [
    {
     "data": {
      "text/plain": [
       "'1.0.3'"
      ]
     },
     "execution_count": 2,
     "metadata": {},
     "output_type": "execute_result"
    }
   ],
   "source": [
    "castle.__version__"
   ]
  },
  {
   "cell_type": "code",
   "execution_count": 3,
   "id": "6efa5217",
   "metadata": {},
   "outputs": [],
   "source": [
    "COLORS = [\n",
    "    '#00B0F0',\n",
    "    '#FF0000',\n",
    "    '#B0F000'\n",
    "]"
   ]
  },
  {
   "cell_type": "markdown",
   "id": "ce594029",
   "metadata": {},
   "source": [
    "# PC algorithm with expert knowledge in `gCastle`\n",
    "\n",
    "**PC algorithm** is a popular contraint-based causal discovery algorithm. \n",
    "\n",
    "Expert knowledge can be added to the algorithm to help it converge.\n",
    "\n",
    "________\n",
    "\n",
    "Keywords: Casusal Discovery, Python, causalpython.io"
   ]
  },
  {
   "cell_type": "markdown",
   "id": "1d54294a",
   "metadata": {},
   "source": [
    "_________\n",
    "\n",
    "**Check [Causal Python](https://causalpython.io)** to learn more about my upcoming book, where we discuss causal discovery in greater detail."
   ]
  },
  {
   "cell_type": "code",
   "execution_count": 4,
   "id": "51227391",
   "metadata": {},
   "outputs": [],
   "source": [
    "# Set random seed\n",
    "SEED = 18\n",
    "np.random.seed(SEED)"
   ]
  },
  {
   "cell_type": "markdown",
   "id": "84d09970",
   "metadata": {},
   "source": [
    "## Data"
   ]
  },
  {
   "cell_type": "code",
   "execution_count": 5,
   "id": "cbe2f12e",
   "metadata": {},
   "outputs": [
    {
     "name": "stderr",
     "output_type": "stream",
     "text": [
      "2023-05-30 18:59:20,110 - C:\\Users\\aleks\\anaconda3\\envs\\causal_book_py38_dw09\\lib\\site-packages\\castle\\datasets\\simulator.py[line:270] - INFO: Finished synthetic dataset\n"
     ]
    }
   ],
   "source": [
    "# Generate a scale-free adjacency matrix\n",
    "adj_matrix = DAG.scale_free(\n",
    "    n_nodes=10,\n",
    "    n_edges=17,\n",
    "    seed=SEED\n",
    ")\n",
    "\n",
    "dataset = IIDSimulation(\n",
    "    W=adj_matrix, \n",
    "    n=10000, \n",
    "    method='linear', \n",
    "    sem_type='gauss'\n",
    ")"
   ]
  },
  {
   "cell_type": "markdown",
   "id": "902141fb",
   "metadata": {},
   "source": [
    "## Causal discovery (no expert knowledge)"
   ]
  },
  {
   "cell_type": "code",
   "execution_count": 6,
   "id": "2308b1a4",
   "metadata": {},
   "outputs": [],
   "source": [
    "# Instantiate the model\n",
    "pc = PC()"
   ]
  },
  {
   "cell_type": "code",
   "execution_count": 7,
   "id": "c596be04",
   "metadata": {},
   "outputs": [],
   "source": [
    "# Fit the model\n",
    "pc.learn(dataset.X)"
   ]
  },
  {
   "cell_type": "code",
   "execution_count": 8,
   "id": "170cd592",
   "metadata": {},
   "outputs": [],
   "source": [
    "# Get the predicted graph\n",
    "pred_dag = pc.causal_matrix"
   ]
  },
  {
   "cell_type": "markdown",
   "id": "8b41276e",
   "metadata": {},
   "source": [
    "## Evaluation 1"
   ]
  },
  {
   "cell_type": "code",
   "execution_count": 9,
   "id": "8bc6c5b0",
   "metadata": {},
   "outputs": [
    {
     "data": {
      "image/png": "[encoded data removed]",
      "text/plain": [
       "<Figure size 800x300 with 4 Axes>"
      ]
     },
     "metadata": {},
     "output_type": "display_data"
    }
   ],
   "source": [
    "# Compare the predicted graph vs the ground truth \n",
    "GraphDAG(\n",
    "    est_dag=pred_dag, \n",
    "    true_dag=adj_matrix)\n",
    "\n",
    "plt.show()"
   ]
  },
  {
   "cell_type": "code",
   "execution_count": 10,
   "id": "3c5a0bfb",
   "metadata": {},
   "outputs": [],
   "source": [
    "# Compute metrics\n",
    "metrics = MetricsDAG(\n",
    "    B_est=pred_dag, \n",
    "    B_true=adj_matrix)"
   ]
  },
  {
   "cell_type": "code",
   "execution_count": 11,
   "id": "9d4d566a",
   "metadata": {},
   "outputs": [
    {
     "name": "stdout",
     "output_type": "stream",
     "text": [
      "F1 score without expert knowledge: 0.8235\n"
     ]
    }
   ],
   "source": [
    "print(f\"F1 score without expert knowledge: {metrics.metrics['F1']}\")"
   ]
  },
  {
   "cell_type": "markdown",
   "id": "84e52b96",
   "metadata": {},
   "source": [
    "## Add expert knowledge"
   ]
  },
  {
   "cell_type": "code",
   "execution_count": 31,
   "id": "f9ce3fb2",
   "metadata": {},
   "outputs": [],
   "source": [
    "# Instantiate and encode priori knowledge\n",
    "expert_knowledge = PrioriKnowledge(n_nodes=10)\n",
    "\n",
    "# Add required & forbidden edges\n",
    "expert_knowledge.add_required_edges([(7, 3)])\n",
    "expert_knowledge.add_forbidden_edges([(5, 2), (1, 9), (8, 9)])"
   ]
  },
  {
   "cell_type": "markdown",
   "id": "77305a22",
   "metadata": {},
   "source": [
    "## Causal discovery (with expert knowledge)"
   ]
  },
  {
   "cell_type": "code",
   "execution_count": 32,
   "id": "64cefaee",
   "metadata": {},
   "outputs": [],
   "source": [
    "# Instantiate the model with expert knowledge\n",
    "pc_expert = PC(priori_knowledge=expert_knowledge)\n",
    "\n",
    "# Learn\n",
    "pc_expert.learn(dataset.X)\n",
    "\n",
    "# Predict (with expert knowledge added)\n",
    "pred_dag_expert = pc_expert.causal_matrix"
   ]
  },
  {
   "cell_type": "markdown",
   "id": "57be167a",
   "metadata": {},
   "source": [
    "## Evaluation 2"
   ]
  },
  {
   "cell_type": "code",
   "execution_count": 33,
   "id": "92ff11c1",
   "metadata": {},
   "outputs": [
    {
     "data": {
      "image/png": "[encoded data removed]",
      "text/plain": [
       "<Figure size 800x300 with 4 Axes>"
      ]
     },
     "metadata": {},
     "output_type": "display_data"
    }
   ],
   "source": [
    "GraphDAG(\n",
    "    est_dag=pred_dag_expert, \n",
    "    true_dag=adj_matrix)\n",
    "\n",
    "plt.show()"
   ]
  },
  {
   "cell_type": "code",
   "execution_count": 34,
   "id": "62a413b6",
   "metadata": {},
   "outputs": [],
   "source": [
    "# Compute metrics\n",
    "metrics_expert = MetricsDAG(\n",
    "    B_est=pred_dag_expert, \n",
    "    B_true=adj_matrix)"
   ]
  },
  {
   "cell_type": "code",
   "execution_count": 35,
   "id": "cd0ffbc8",
   "metadata": {},
   "outputs": [
    {
     "name": "stdout",
     "output_type": "stream",
     "text": [
      "F1 score without expert knowledge: 0.8235\n",
      "F1 score with    expert knowledge: 0.9143\n"
     ]
    }
   ],
   "source": [
    "print(f\"F1 score without expert knowledge: {metrics.metrics['F1']}\")\n",
    "print(f\"F1 score with    expert knowledge: {metrics_expert.metrics['F1']}\")"
   ]
  }
 ],
 "metadata": {
  "kernelspec": {
   "display_name": "Python [conda env:causal_book_py38_dw09]",
   "language": "python",
   "name": "conda-env-causal_book_py38_dw09-py"
  },
  "language_info": {
   "codemirror_mode": {
    "name": "ipython",
    "version": 3
   },
   "file_extension": ".py",
   "mimetype": "text/x-python",
   "name": "python",
   "nbconvert_exporter": "python",
   "pygments_lexer": "ipython3",
   "version": "3.8.16"
  }
 },
 "nbformat": 4,
 "nbformat_minor": 5
}
