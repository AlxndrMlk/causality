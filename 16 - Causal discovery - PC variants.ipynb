{
 "cells": [
  {
   "cell_type": "code",
   "execution_count": 9,
   "id": "ca1ac6de",
   "metadata": {},
   "outputs": [],
   "source": [
    "import os\n",
    "os.environ['CASTLE_BACKEND'] = 'pytorch'\n",
    "\n",
    "import numpy as np\n",
    "import networkx as nx\n",
    "\n",
    "from castle.common import GraphDAG\n",
    "from castle.metrics import MetricsDAG\n",
    "from castle.datasets import IIDSimulation, DAG\n",
    "from castle.algorithms import PC\n",
    "\n",
    "import matplotlib.pyplot as plt"
   ]
  },
  {
   "cell_type": "code",
   "execution_count": 11,
   "id": "6d525db2",
   "metadata": {},
   "outputs": [],
   "source": [
    "COLORS = [\n",
    "    '#00B0F0',\n",
    "    '#FF0000',\n",
    "    '#B0F000'\n",
    "]"
   ]
  },
  {
   "cell_type": "markdown",
   "id": "1aa20b1b",
   "metadata": {},
   "source": [
    "# PC algorithm variants with `gCastle`\n",
    "\n",
    "**PC algorithm** is a popular contraint-based causal discovery algorithm. A little-known fact is that the algorithm has multiple variants that improve upon the original concept. `gCastle` makes it easy to use some of these variants.\n",
    "\n",
    "`gCastle` (v 1.0.3) supports **PC-stable** (Colombo & Maathuis, 2012) and **PC-parallel** (Le et al., 2015) variants.\n",
    "\n",
    "\n",
    "\n",
    "____________\n",
    "\n",
    "**References**\n",
    "* Colombo, D., & Maathuis, M.H. (2012). Order-independent constraint-based causal structure learning. J. Mach. Learn. Res., 15, 3741-3782.\n",
    "* Le, T.D., Hoang, T., Li, J., Liu, L., Liu, H., & Hu, S. (2015). A Fast PC Algorithm for High Dimensional Causal Discovery with Multi-Core PCs. IEEE/ACM Transactions on Computational Biology and Bioinformatics, 16, 1483-1495.\n",
    "\n",
    "\n",
    "________\n",
    "\n",
    "Keywords: Casusal Discovery, Python, causalpython.io"
   ]
  },
  {
   "cell_type": "markdown",
   "id": "11e5933a",
   "metadata": {},
   "source": [
    "_________\n",
    "\n",
    "**Check [Causal Python](https://causalpython.io)** to learn more about my upcoming book, where we discuss causal discovery in greater detail."
   ]
  },
  {
   "cell_type": "code",
   "execution_count": 4,
   "id": "c10175f8",
   "metadata": {},
   "outputs": [],
   "source": [
    "# Set random seed\n",
    "SEED = 18\n",
    "np.random.seed(SEED)"
   ]
  },
  {
   "cell_type": "markdown",
   "id": "bc17c8df",
   "metadata": {},
   "source": [
    "## Data"
   ]
  },
  {
   "cell_type": "code",
   "execution_count": 5,
   "id": "b17ab873",
   "metadata": {},
   "outputs": [],
   "source": [
    "# Build a DAG adj matrix\n",
    "pc_dag = np.array([\n",
    "    [0, 0, 1, 0],\n",
    "    [0, 0, 1, 0],\n",
    "    [0, 0, 0, 1],\n",
    "    [0, 0, 0, 0]\n",
    "])"
   ]
  },
  {
   "cell_type": "code",
   "execution_count": 6,
   "id": "723b55a0",
   "metadata": {},
   "outputs": [],
   "source": [
    "# Generate data from this DAG\n",
    "N = 1000\n",
    "\n",
    "p = np.random.randn(N)\n",
    "q = np.random.randn(N)\n",
    "\n",
    "r = p + q + .1 * np.random.randn(N)\n",
    "s = .7 * r + .1 * np.random.randn(N)\n",
    "\n",
    "# To matrix\n",
    "pc_dataset = np.vstack([p, q, r, s]).T"
   ]
  },
  {
   "cell_type": "markdown",
   "id": "9f92f455",
   "metadata": {},
   "source": [
    "## Visualize"
   ]
  },
  {
   "cell_type": "code",
   "execution_count": 13,
   "id": "f04d76d6",
   "metadata": {},
   "outputs": [
    {
     "data": {
      "image/png": "[encoded data removed]",
      "text/plain": [
       "<Figure size 504x216 with 1 Axes>"
      ]
     },
     "metadata": {},
     "output_type": "display_data"
    }
   ],
   "source": [
    "# Plot the original graph\n",
    "\n",
    "# Get learned graph\n",
    "true_graph = nx.DiGraph(pc_dag)\n",
    "\n",
    "# Relabel the nodes\n",
    "MAPPING = {k: v for k, v in zip(range(4), ['P', 'Q', 'R', 'S'])}\n",
    "true_graph = nx.relabel_nodes(true_graph, MAPPING, copy=True)\n",
    "\n",
    "plt.figure(figsize=(7, 3))\n",
    "nx.draw(\n",
    "    G=true_graph,\n",
    "    node_color=COLORS[2],\n",
    "    node_size=1200,\n",
    "    arrowsize=17,\n",
    "    with_labels=True,\n",
    "    font_color='white',\n",
    "    font_size=21,\n",
    "    pos=nx.circular_layout(true_graph)\n",
    ")"
   ]
  },
  {
   "cell_type": "markdown",
   "id": "5aa8606b",
   "metadata": {},
   "source": [
    "## Learn"
   ]
  },
  {
   "cell_type": "markdown",
   "id": "30f6f8b1",
   "metadata": {},
   "source": [
    "### Original PC"
   ]
  },
  {
   "cell_type": "code",
   "execution_count": 14,
   "id": "5d855248",
   "metadata": {},
   "outputs": [
    {
     "data": {
      "text/plain": [
       "Tensor([[0, 0, 1, 0],\n",
       "        [0, 0, 1, 0],\n",
       "        [0, 0, 0, 1],\n",
       "        [0, 0, 0, 0]])"
      ]
     },
     "execution_count": 14,
     "metadata": {},
     "output_type": "execute_result"
    }
   ],
   "source": [
    "# Initialize PC\n",
    "pc = PC()\n",
    "\n",
    "# Fit \n",
    "pc.learn(pc_dataset)\n",
    "\n",
    "# Display the learned matrix\n",
    "pc.causal_matrix"
   ]
  },
  {
   "cell_type": "code",
   "execution_count": 15,
   "id": "2d869e54",
   "metadata": {},
   "outputs": [
    {
     "data": {
      "image/png": "[encoded data removed]",
      "text/plain": [
       "<Figure size 576x216 with 4 Axes>"
      ]
     },
     "metadata": {
      "needs_background": "light"
     },
     "output_type": "display_data"
    }
   ],
   "source": [
    "# Visualize results\n",
    "GraphDAG(\n",
    "    est_dag=pc.causal_matrix, \n",
    "    true_dag=pc_dag)\n",
    "\n",
    "plt.show()"
   ]
  },
  {
   "cell_type": "markdown",
   "id": "c939dc50",
   "metadata": {},
   "source": [
    "### PC-stable"
   ]
  },
  {
   "cell_type": "code",
   "execution_count": 16,
   "id": "327485e1",
   "metadata": {},
   "outputs": [
    {
     "data": {
      "image/png": "[encoded data removed]",
      "text/plain": [
       "<Figure size 576x216 with 4 Axes>"
      ]
     },
     "metadata": {
      "needs_background": "light"
     },
     "output_type": "display_data"
    }
   ],
   "source": [
    "# PC-stable\n",
    "pc_stable = PC(variant='stable')\n",
    "\n",
    "# Fit \n",
    "pc_stable.learn(pc_dataset)\n",
    "\n",
    "# Visualize\n",
    "GraphDAG(\n",
    "    est_dag=pc_stable.causal_matrix, \n",
    "    true_dag=pc_dag)\n",
    "\n",
    "plt.show()"
   ]
  },
  {
   "cell_type": "markdown",
   "id": "f7c9d62e",
   "metadata": {},
   "source": [
    "### PC-parallel"
   ]
  },
  {
   "cell_type": "code",
   "execution_count": 17,
   "id": "2e4925fe",
   "metadata": {},
   "outputs": [
    {
     "data": {
      "image/png": "[encoded data removed]",
      "text/plain": [
       "<Figure size 576x216 with 4 Axes>"
      ]
     },
     "metadata": {
      "needs_background": "light"
     },
     "output_type": "display_data"
    }
   ],
   "source": [
    "# PC-stable\n",
    "pc_parallel = PC(variant='parallel')\n",
    "\n",
    "# Fit \n",
    "pc_parallel.learn(pc_dataset)\n",
    "\n",
    "# Visualize\n",
    "GraphDAG(\n",
    "    est_dag=pc_parallel.causal_matrix, \n",
    "    true_dag=pc_dag)\n",
    "\n",
    "plt.show()"
   ]
  },
  {
   "cell_type": "code",
   "execution_count": null,
   "id": "a5635847",
   "metadata": {},
   "outputs": [],
   "source": []
  }
 ],
 "metadata": {
  "kernelspec": {
   "display_name": "Python [conda env:econml-dowhy-py38]",
   "language": "python",
   "name": "conda-env-econml-dowhy-py38-py"
  },
  "language_info": {
   "codemirror_mode": {
    "name": "ipython",
    "version": 3
   },
   "file_extension": ".py",
   "mimetype": "text/x-python",
   "name": "python",
   "nbconvert_exporter": "python",
   "pygments_lexer": "ipython3",
   "version": "3.8.12"
  }
 },
 "nbformat": 4,
 "nbformat_minor": 5
}
